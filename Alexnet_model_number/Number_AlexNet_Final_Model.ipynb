{
  "metadata": {
    "kernelspec": {
      "display_name": "Python 3",
      "language": "python",
      "name": "python3"
    },
    "language_info": {
      "name": "python",
      "version": "3.7.12",
      "mimetype": "text/x-python",
      "codemirror_mode": {
        "name": "ipython",
        "version": 3
      },
      "pygments_lexer": "ipython3",
      "nbconvert_exporter": "python",
      "file_extension": ".py"
    },
    "colab": {
      "provenance": []
    },
    "accelerator": "GPU",
    "gpuClass": "standard"
  },
  "nbformat_minor": 0,
  "nbformat": 4,
  "cells": [
    {
      "cell_type": "code",
      "source": [
        "import pandas as pd\n",
        "import numpy as np\n",
        "import matplotlib.pyplot as plt\n",
        "import matplotlib.image as mpimg\n",
        "import seaborn as sns\n",
        "%matplotlib inline\n",
        "\n",
        "from sklearn.preprocessing import OneHotEncoder"
      ],
      "metadata": {
        "_uuid": "e610fb7e9bfdc7fdfd8b96bfa5b493bae95a5e4d",
        "id": "h_5zVxWW3dqU",
        "execution": {
          "iopub.status.busy": "2023-04-15T10:29:45.920463Z",
          "iopub.execute_input": "2023-04-15T10:29:45.921654Z",
          "iopub.status.idle": "2023-04-15T10:29:46.525026Z",
          "shell.execute_reply.started": "2023-04-15T10:29:45.921604Z",
          "shell.execute_reply": "2023-04-15T10:29:46.524026Z"
        },
        "trusted": true
      },
      "execution_count": null,
      "outputs": []
    },
    {
      "cell_type": "code",
      "source": [
        "from google.colab import drive\n",
        "\n",
        "drive.mount('/content/drive')\n",
        "\n",
        "!cp /content/drive/MyDrive/Abdulla_OCR/Number/anotation_28x28/Test.csv .\n",
        "!cp /content/drive/MyDrive/Abdulla_OCR/Number/anotation_28x28/Train.csv .\n",
        "\n",
        "!rm -rf sample_data"
      ],
      "metadata": {
        "id": "3uTT3KM_3gxT",
        "execution": {
          "iopub.status.busy": "2023-04-15T10:29:46.526950Z",
          "iopub.execute_input": "2023-04-15T10:29:46.527409Z",
          "iopub.status.idle": "2023-04-15T10:29:46.533589Z",
          "shell.execute_reply.started": "2023-04-15T10:29:46.527372Z",
          "shell.execute_reply": "2023-04-15T10:29:46.532200Z"
        },
        "trusted": true,
        "colab": {
          "base_uri": "https://localhost:8080/"
        },
        "outputId": "f50b1f55-6601-4af8-93aa-a92f9811f06f"
      },
      "execution_count": null,
      "outputs": [
        {
          "output_type": "stream",
          "name": "stdout",
          "text": [
            "Mounted at /content/drive\n"
          ]
        }
      ]
    },
    {
      "cell_type": "code",
      "source": [
        "train = pd.read_csv('Train.csv')\n",
        "test = pd.read_csv('Test.csv')"
      ],
      "metadata": {
        "_cell_guid": "79c7e3d0-c299-4dcb-8224-4455121ee9b0",
        "_uuid": "d629ff2d2480ee46fbb7e2d37f6b5fab8052498a",
        "id": "U8Y9yiCF3dqj",
        "execution": {
          "iopub.status.busy": "2023-04-15T10:29:46.970125Z",
          "iopub.execute_input": "2023-04-15T10:29:46.971091Z",
          "iopub.status.idle": "2023-04-15T10:30:03.942070Z",
          "shell.execute_reply.started": "2023-04-15T10:29:46.971019Z",
          "shell.execute_reply": "2023-04-15T10:30:03.941013Z"
        },
        "trusted": true
      },
      "execution_count": null,
      "outputs": []
    },
    {
      "cell_type": "code",
      "source": [
        "train.shape, test.shape"
      ],
      "metadata": {
        "_uuid": "ade7c715ffc05d081cb7ed1a01716e75d40adfac",
        "colab": {
          "base_uri": "https://localhost:8080/"
        },
        "id": "YBY-Mka83dql",
        "outputId": "e95222df-9479-447a-d77c-fc1a8040a525",
        "execution": {
          "iopub.status.busy": "2023-04-15T10:30:14.931844Z",
          "iopub.execute_input": "2023-04-15T10:30:14.932566Z",
          "iopub.status.idle": "2023-04-15T10:30:14.940430Z",
          "shell.execute_reply.started": "2023-04-15T10:30:14.932504Z",
          "shell.execute_reply": "2023-04-15T10:30:14.939418Z"
        },
        "trusted": true
      },
      "execution_count": null,
      "outputs": [
        {
          "output_type": "execute_result",
          "data": {
            "text/plain": [
              "((59241, 785), (9990, 785))"
            ]
          },
          "metadata": {},
          "execution_count": 4
        }
      ]
    },
    {
      "cell_type": "code",
      "source": [
        "train.tail(5)"
      ],
      "metadata": {
        "_uuid": "68a6eaedc747b9e649adb0fcb76a314f97f45a86",
        "colab": {
          "base_uri": "https://localhost:8080/",
          "height": 299
        },
        "id": "-0-_vuen3dqn",
        "outputId": "4f2f56c9-166c-4d46-ed7d-37fbc885b54f",
        "execution": {
          "iopub.status.busy": "2023-04-15T10:30:16.424730Z",
          "iopub.execute_input": "2023-04-15T10:30:16.425732Z",
          "iopub.status.idle": "2023-04-15T10:30:16.450749Z",
          "shell.execute_reply.started": "2023-04-15T10:30:16.425685Z",
          "shell.execute_reply": "2023-04-15T10:30:16.449736Z"
        },
        "trusted": true
      },
      "execution_count": null,
      "outputs": [
        {
          "output_type": "execute_result",
          "data": {
            "text/plain": [
              "       label  pixel0  pixel1  pixel2  pixel3  pixel4  pixel5  pixel6  pixel7  \\\n",
              "59236      9       0       0       0       0       0       0       0       0   \n",
              "59237      9       0       0       0       0       0       0       0       0   \n",
              "59238      9       0       0       0       0       0       0       0       0   \n",
              "59239      9       0       0       0       0       4       6       4       0   \n",
              "59240      9       0       0       0       0       0       0       0       0   \n",
              "\n",
              "       pixel8  ...  pixel774  pixel775  pixel776  pixel777  pixel778  \\\n",
              "59236       1  ...         0         0         0         0         0   \n",
              "59237       0  ...         0         0         0         0         0   \n",
              "59238       0  ...         0         0         0         0         0   \n",
              "59239       0  ...         0         0         0         0         0   \n",
              "59240       0  ...         0         0         0         0         0   \n",
              "\n",
              "       pixel779  pixel780  pixel781  pixel782  pixel783  \n",
              "59236         0         0         0         0         0  \n",
              "59237         0         0         0         0         0  \n",
              "59238         0         0         0         0         0  \n",
              "59239         0         0         0         0         0  \n",
              "59240         0         0         0         0         0  \n",
              "\n",
              "[5 rows x 785 columns]"
            ],
            "text/html": [
              "\n",
              "  <div id=\"df-0af39d7a-0aec-41f2-902f-505efaf44960\">\n",
              "    <div class=\"colab-df-container\">\n",
              "      <div>\n",
              "<style scoped>\n",
              "    .dataframe tbody tr th:only-of-type {\n",
              "        vertical-align: middle;\n",
              "    }\n",
              "\n",
              "    .dataframe tbody tr th {\n",
              "        vertical-align: top;\n",
              "    }\n",
              "\n",
              "    .dataframe thead th {\n",
              "        text-align: right;\n",
              "    }\n",
              "</style>\n",
              "<table border=\"1\" class=\"dataframe\">\n",
              "  <thead>\n",
              "    <tr style=\"text-align: right;\">\n",
              "      <th></th>\n",
              "      <th>label</th>\n",
              "      <th>pixel0</th>\n",
              "      <th>pixel1</th>\n",
              "      <th>pixel2</th>\n",
              "      <th>pixel3</th>\n",
              "      <th>pixel4</th>\n",
              "      <th>pixel5</th>\n",
              "      <th>pixel6</th>\n",
              "      <th>pixel7</th>\n",
              "      <th>pixel8</th>\n",
              "      <th>...</th>\n",
              "      <th>pixel774</th>\n",
              "      <th>pixel775</th>\n",
              "      <th>pixel776</th>\n",
              "      <th>pixel777</th>\n",
              "      <th>pixel778</th>\n",
              "      <th>pixel779</th>\n",
              "      <th>pixel780</th>\n",
              "      <th>pixel781</th>\n",
              "      <th>pixel782</th>\n",
              "      <th>pixel783</th>\n",
              "    </tr>\n",
              "  </thead>\n",
              "  <tbody>\n",
              "    <tr>\n",
              "      <th>59236</th>\n",
              "      <td>9</td>\n",
              "      <td>0</td>\n",
              "      <td>0</td>\n",
              "      <td>0</td>\n",
              "      <td>0</td>\n",
              "      <td>0</td>\n",
              "      <td>0</td>\n",
              "      <td>0</td>\n",
              "      <td>0</td>\n",
              "      <td>1</td>\n",
              "      <td>...</td>\n",
              "      <td>0</td>\n",
              "      <td>0</td>\n",
              "      <td>0</td>\n",
              "      <td>0</td>\n",
              "      <td>0</td>\n",
              "      <td>0</td>\n",
              "      <td>0</td>\n",
              "      <td>0</td>\n",
              "      <td>0</td>\n",
              "      <td>0</td>\n",
              "    </tr>\n",
              "    <tr>\n",
              "      <th>59237</th>\n",
              "      <td>9</td>\n",
              "      <td>0</td>\n",
              "      <td>0</td>\n",
              "      <td>0</td>\n",
              "      <td>0</td>\n",
              "      <td>0</td>\n",
              "      <td>0</td>\n",
              "      <td>0</td>\n",
              "      <td>0</td>\n",
              "      <td>0</td>\n",
              "      <td>...</td>\n",
              "      <td>0</td>\n",
              "      <td>0</td>\n",
              "      <td>0</td>\n",
              "      <td>0</td>\n",
              "      <td>0</td>\n",
              "      <td>0</td>\n",
              "      <td>0</td>\n",
              "      <td>0</td>\n",
              "      <td>0</td>\n",
              "      <td>0</td>\n",
              "    </tr>\n",
              "    <tr>\n",
              "      <th>59238</th>\n",
              "      <td>9</td>\n",
              "      <td>0</td>\n",
              "      <td>0</td>\n",
              "      <td>0</td>\n",
              "      <td>0</td>\n",
              "      <td>0</td>\n",
              "      <td>0</td>\n",
              "      <td>0</td>\n",
              "      <td>0</td>\n",
              "      <td>0</td>\n",
              "      <td>...</td>\n",
              "      <td>0</td>\n",
              "      <td>0</td>\n",
              "      <td>0</td>\n",
              "      <td>0</td>\n",
              "      <td>0</td>\n",
              "      <td>0</td>\n",
              "      <td>0</td>\n",
              "      <td>0</td>\n",
              "      <td>0</td>\n",
              "      <td>0</td>\n",
              "    </tr>\n",
              "    <tr>\n",
              "      <th>59239</th>\n",
              "      <td>9</td>\n",
              "      <td>0</td>\n",
              "      <td>0</td>\n",
              "      <td>0</td>\n",
              "      <td>0</td>\n",
              "      <td>4</td>\n",
              "      <td>6</td>\n",
              "      <td>4</td>\n",
              "      <td>0</td>\n",
              "      <td>0</td>\n",
              "      <td>...</td>\n",
              "      <td>0</td>\n",
              "      <td>0</td>\n",
              "      <td>0</td>\n",
              "      <td>0</td>\n",
              "      <td>0</td>\n",
              "      <td>0</td>\n",
              "      <td>0</td>\n",
              "      <td>0</td>\n",
              "      <td>0</td>\n",
              "      <td>0</td>\n",
              "    </tr>\n",
              "    <tr>\n",
              "      <th>59240</th>\n",
              "      <td>9</td>\n",
              "      <td>0</td>\n",
              "      <td>0</td>\n",
              "      <td>0</td>\n",
              "      <td>0</td>\n",
              "      <td>0</td>\n",
              "      <td>0</td>\n",
              "      <td>0</td>\n",
              "      <td>0</td>\n",
              "      <td>0</td>\n",
              "      <td>...</td>\n",
              "      <td>0</td>\n",
              "      <td>0</td>\n",
              "      <td>0</td>\n",
              "      <td>0</td>\n",
              "      <td>0</td>\n",
              "      <td>0</td>\n",
              "      <td>0</td>\n",
              "      <td>0</td>\n",
              "      <td>0</td>\n",
              "      <td>0</td>\n",
              "    </tr>\n",
              "  </tbody>\n",
              "</table>\n",
              "<p>5 rows × 785 columns</p>\n",
              "</div>\n",
              "      <button class=\"colab-df-convert\" onclick=\"convertToInteractive('df-0af39d7a-0aec-41f2-902f-505efaf44960')\"\n",
              "              title=\"Convert this dataframe to an interactive table.\"\n",
              "              style=\"display:none;\">\n",
              "        \n",
              "  <svg xmlns=\"http://www.w3.org/2000/svg\" height=\"24px\"viewBox=\"0 0 24 24\"\n",
              "       width=\"24px\">\n",
              "    <path d=\"M0 0h24v24H0V0z\" fill=\"none\"/>\n",
              "    <path d=\"M18.56 5.44l.94 2.06.94-2.06 2.06-.94-2.06-.94-.94-2.06-.94 2.06-2.06.94zm-11 1L8.5 8.5l.94-2.06 2.06-.94-2.06-.94L8.5 2.5l-.94 2.06-2.06.94zm10 10l.94 2.06.94-2.06 2.06-.94-2.06-.94-.94-2.06-.94 2.06-2.06.94z\"/><path d=\"M17.41 7.96l-1.37-1.37c-.4-.4-.92-.59-1.43-.59-.52 0-1.04.2-1.43.59L10.3 9.45l-7.72 7.72c-.78.78-.78 2.05 0 2.83L4 21.41c.39.39.9.59 1.41.59.51 0 1.02-.2 1.41-.59l7.78-7.78 2.81-2.81c.8-.78.8-2.07 0-2.86zM5.41 20L4 18.59l7.72-7.72 1.47 1.35L5.41 20z\"/>\n",
              "  </svg>\n",
              "      </button>\n",
              "      \n",
              "  <style>\n",
              "    .colab-df-container {\n",
              "      display:flex;\n",
              "      flex-wrap:wrap;\n",
              "      gap: 12px;\n",
              "    }\n",
              "\n",
              "    .colab-df-convert {\n",
              "      background-color: #E8F0FE;\n",
              "      border: none;\n",
              "      border-radius: 50%;\n",
              "      cursor: pointer;\n",
              "      display: none;\n",
              "      fill: #1967D2;\n",
              "      height: 32px;\n",
              "      padding: 0 0 0 0;\n",
              "      width: 32px;\n",
              "    }\n",
              "\n",
              "    .colab-df-convert:hover {\n",
              "      background-color: #E2EBFA;\n",
              "      box-shadow: 0px 1px 2px rgba(60, 64, 67, 0.3), 0px 1px 3px 1px rgba(60, 64, 67, 0.15);\n",
              "      fill: #174EA6;\n",
              "    }\n",
              "\n",
              "    [theme=dark] .colab-df-convert {\n",
              "      background-color: #3B4455;\n",
              "      fill: #D2E3FC;\n",
              "    }\n",
              "\n",
              "    [theme=dark] .colab-df-convert:hover {\n",
              "      background-color: #434B5C;\n",
              "      box-shadow: 0px 1px 3px 1px rgba(0, 0, 0, 0.15);\n",
              "      filter: drop-shadow(0px 1px 2px rgba(0, 0, 0, 0.3));\n",
              "      fill: #FFFFFF;\n",
              "    }\n",
              "  </style>\n",
              "\n",
              "      <script>\n",
              "        const buttonEl =\n",
              "          document.querySelector('#df-0af39d7a-0aec-41f2-902f-505efaf44960 button.colab-df-convert');\n",
              "        buttonEl.style.display =\n",
              "          google.colab.kernel.accessAllowed ? 'block' : 'none';\n",
              "\n",
              "        async function convertToInteractive(key) {\n",
              "          const element = document.querySelector('#df-0af39d7a-0aec-41f2-902f-505efaf44960');\n",
              "          const dataTable =\n",
              "            await google.colab.kernel.invokeFunction('convertToInteractive',\n",
              "                                                     [key], {});\n",
              "          if (!dataTable) return;\n",
              "\n",
              "          const docLinkHtml = 'Like what you see? Visit the ' +\n",
              "            '<a target=\"_blank\" href=https://colab.research.google.com/notebooks/data_table.ipynb>data table notebook</a>'\n",
              "            + ' to learn more about interactive tables.';\n",
              "          element.innerHTML = '';\n",
              "          dataTable['output_type'] = 'display_data';\n",
              "          await google.colab.output.renderOutput(dataTable, element);\n",
              "          const docLink = document.createElement('div');\n",
              "          docLink.innerHTML = docLinkHtml;\n",
              "          element.appendChild(docLink);\n",
              "        }\n",
              "      </script>\n",
              "    </div>\n",
              "  </div>\n",
              "  "
            ]
          },
          "metadata": {},
          "execution_count": 5
        }
      ]
    },
    {
      "cell_type": "code",
      "source": [
        "test.tail(5)"
      ],
      "metadata": {
        "_uuid": "20f8ac566ad3e4618cf529f27e0786a4b8d3c8ea",
        "colab": {
          "base_uri": "https://localhost:8080/",
          "height": 299
        },
        "id": "eYQJlIt93dqp",
        "outputId": "c527833a-4955-4f40-b0d6-086233ec679c",
        "execution": {
          "iopub.status.busy": "2023-04-15T10:30:18.057735Z",
          "iopub.execute_input": "2023-04-15T10:30:18.058560Z",
          "iopub.status.idle": "2023-04-15T10:30:18.077415Z",
          "shell.execute_reply.started": "2023-04-15T10:30:18.058486Z",
          "shell.execute_reply": "2023-04-15T10:30:18.076175Z"
        },
        "trusted": true
      },
      "execution_count": null,
      "outputs": [
        {
          "output_type": "execute_result",
          "data": {
            "text/plain": [
              "      0  0.1  0.2  0.3  0.4  0.5  0.6  0.7  0.8  0.9  ...  0.745  0.746  \\\n",
              "9985  9    0    0    0    0    0    0    0    0    0  ...      0      0   \n",
              "9986  9    0    0    0    0    0    0    0    0    0  ...      0      3   \n",
              "9987  9    0    0    0    0    0    0    0    0    0  ...      0      0   \n",
              "9988  9    0    0    0    0    0    0    0    0    0  ...      0      0   \n",
              "9989  9    0    0    0    0    0    0    0    0    0  ...      0      0   \n",
              "\n",
              "      0.747  0.748  0.749  0.750  0.751  0.752  0.753  0.754  \n",
              "9985      0      0      0      0      0      0      0      0  \n",
              "9986      2      0      0      0      0      0      0      0  \n",
              "9987      0      0      0      0      0      0      0      0  \n",
              "9988      0      0      0      0      0      0      0      0  \n",
              "9989      0      0      0      0      0      0      0      0  \n",
              "\n",
              "[5 rows x 785 columns]"
            ],
            "text/html": [
              "\n",
              "  <div id=\"df-496cee1d-a8f5-47a2-ac35-d3888971d015\">\n",
              "    <div class=\"colab-df-container\">\n",
              "      <div>\n",
              "<style scoped>\n",
              "    .dataframe tbody tr th:only-of-type {\n",
              "        vertical-align: middle;\n",
              "    }\n",
              "\n",
              "    .dataframe tbody tr th {\n",
              "        vertical-align: top;\n",
              "    }\n",
              "\n",
              "    .dataframe thead th {\n",
              "        text-align: right;\n",
              "    }\n",
              "</style>\n",
              "<table border=\"1\" class=\"dataframe\">\n",
              "  <thead>\n",
              "    <tr style=\"text-align: right;\">\n",
              "      <th></th>\n",
              "      <th>0</th>\n",
              "      <th>0.1</th>\n",
              "      <th>0.2</th>\n",
              "      <th>0.3</th>\n",
              "      <th>0.4</th>\n",
              "      <th>0.5</th>\n",
              "      <th>0.6</th>\n",
              "      <th>0.7</th>\n",
              "      <th>0.8</th>\n",
              "      <th>0.9</th>\n",
              "      <th>...</th>\n",
              "      <th>0.745</th>\n",
              "      <th>0.746</th>\n",
              "      <th>0.747</th>\n",
              "      <th>0.748</th>\n",
              "      <th>0.749</th>\n",
              "      <th>0.750</th>\n",
              "      <th>0.751</th>\n",
              "      <th>0.752</th>\n",
              "      <th>0.753</th>\n",
              "      <th>0.754</th>\n",
              "    </tr>\n",
              "  </thead>\n",
              "  <tbody>\n",
              "    <tr>\n",
              "      <th>9985</th>\n",
              "      <td>9</td>\n",
              "      <td>0</td>\n",
              "      <td>0</td>\n",
              "      <td>0</td>\n",
              "      <td>0</td>\n",
              "      <td>0</td>\n",
              "      <td>0</td>\n",
              "      <td>0</td>\n",
              "      <td>0</td>\n",
              "      <td>0</td>\n",
              "      <td>...</td>\n",
              "      <td>0</td>\n",
              "      <td>0</td>\n",
              "      <td>0</td>\n",
              "      <td>0</td>\n",
              "      <td>0</td>\n",
              "      <td>0</td>\n",
              "      <td>0</td>\n",
              "      <td>0</td>\n",
              "      <td>0</td>\n",
              "      <td>0</td>\n",
              "    </tr>\n",
              "    <tr>\n",
              "      <th>9986</th>\n",
              "      <td>9</td>\n",
              "      <td>0</td>\n",
              "      <td>0</td>\n",
              "      <td>0</td>\n",
              "      <td>0</td>\n",
              "      <td>0</td>\n",
              "      <td>0</td>\n",
              "      <td>0</td>\n",
              "      <td>0</td>\n",
              "      <td>0</td>\n",
              "      <td>...</td>\n",
              "      <td>0</td>\n",
              "      <td>3</td>\n",
              "      <td>2</td>\n",
              "      <td>0</td>\n",
              "      <td>0</td>\n",
              "      <td>0</td>\n",
              "      <td>0</td>\n",
              "      <td>0</td>\n",
              "      <td>0</td>\n",
              "      <td>0</td>\n",
              "    </tr>\n",
              "    <tr>\n",
              "      <th>9987</th>\n",
              "      <td>9</td>\n",
              "      <td>0</td>\n",
              "      <td>0</td>\n",
              "      <td>0</td>\n",
              "      <td>0</td>\n",
              "      <td>0</td>\n",
              "      <td>0</td>\n",
              "      <td>0</td>\n",
              "      <td>0</td>\n",
              "      <td>0</td>\n",
              "      <td>...</td>\n",
              "      <td>0</td>\n",
              "      <td>0</td>\n",
              "      <td>0</td>\n",
              "      <td>0</td>\n",
              "      <td>0</td>\n",
              "      <td>0</td>\n",
              "      <td>0</td>\n",
              "      <td>0</td>\n",
              "      <td>0</td>\n",
              "      <td>0</td>\n",
              "    </tr>\n",
              "    <tr>\n",
              "      <th>9988</th>\n",
              "      <td>9</td>\n",
              "      <td>0</td>\n",
              "      <td>0</td>\n",
              "      <td>0</td>\n",
              "      <td>0</td>\n",
              "      <td>0</td>\n",
              "      <td>0</td>\n",
              "      <td>0</td>\n",
              "      <td>0</td>\n",
              "      <td>0</td>\n",
              "      <td>...</td>\n",
              "      <td>0</td>\n",
              "      <td>0</td>\n",
              "      <td>0</td>\n",
              "      <td>0</td>\n",
              "      <td>0</td>\n",
              "      <td>0</td>\n",
              "      <td>0</td>\n",
              "      <td>0</td>\n",
              "      <td>0</td>\n",
              "      <td>0</td>\n",
              "    </tr>\n",
              "    <tr>\n",
              "      <th>9989</th>\n",
              "      <td>9</td>\n",
              "      <td>0</td>\n",
              "      <td>0</td>\n",
              "      <td>0</td>\n",
              "      <td>0</td>\n",
              "      <td>0</td>\n",
              "      <td>0</td>\n",
              "      <td>0</td>\n",
              "      <td>0</td>\n",
              "      <td>0</td>\n",
              "      <td>...</td>\n",
              "      <td>0</td>\n",
              "      <td>0</td>\n",
              "      <td>0</td>\n",
              "      <td>0</td>\n",
              "      <td>0</td>\n",
              "      <td>0</td>\n",
              "      <td>0</td>\n",
              "      <td>0</td>\n",
              "      <td>0</td>\n",
              "      <td>0</td>\n",
              "    </tr>\n",
              "  </tbody>\n",
              "</table>\n",
              "<p>5 rows × 785 columns</p>\n",
              "</div>\n",
              "      <button class=\"colab-df-convert\" onclick=\"convertToInteractive('df-496cee1d-a8f5-47a2-ac35-d3888971d015')\"\n",
              "              title=\"Convert this dataframe to an interactive table.\"\n",
              "              style=\"display:none;\">\n",
              "        \n",
              "  <svg xmlns=\"http://www.w3.org/2000/svg\" height=\"24px\"viewBox=\"0 0 24 24\"\n",
              "       width=\"24px\">\n",
              "    <path d=\"M0 0h24v24H0V0z\" fill=\"none\"/>\n",
              "    <path d=\"M18.56 5.44l.94 2.06.94-2.06 2.06-.94-2.06-.94-.94-2.06-.94 2.06-2.06.94zm-11 1L8.5 8.5l.94-2.06 2.06-.94-2.06-.94L8.5 2.5l-.94 2.06-2.06.94zm10 10l.94 2.06.94-2.06 2.06-.94-2.06-.94-.94-2.06-.94 2.06-2.06.94z\"/><path d=\"M17.41 7.96l-1.37-1.37c-.4-.4-.92-.59-1.43-.59-.52 0-1.04.2-1.43.59L10.3 9.45l-7.72 7.72c-.78.78-.78 2.05 0 2.83L4 21.41c.39.39.9.59 1.41.59.51 0 1.02-.2 1.41-.59l7.78-7.78 2.81-2.81c.8-.78.8-2.07 0-2.86zM5.41 20L4 18.59l7.72-7.72 1.47 1.35L5.41 20z\"/>\n",
              "  </svg>\n",
              "      </button>\n",
              "      \n",
              "  <style>\n",
              "    .colab-df-container {\n",
              "      display:flex;\n",
              "      flex-wrap:wrap;\n",
              "      gap: 12px;\n",
              "    }\n",
              "\n",
              "    .colab-df-convert {\n",
              "      background-color: #E8F0FE;\n",
              "      border: none;\n",
              "      border-radius: 50%;\n",
              "      cursor: pointer;\n",
              "      display: none;\n",
              "      fill: #1967D2;\n",
              "      height: 32px;\n",
              "      padding: 0 0 0 0;\n",
              "      width: 32px;\n",
              "    }\n",
              "\n",
              "    .colab-df-convert:hover {\n",
              "      background-color: #E2EBFA;\n",
              "      box-shadow: 0px 1px 2px rgba(60, 64, 67, 0.3), 0px 1px 3px 1px rgba(60, 64, 67, 0.15);\n",
              "      fill: #174EA6;\n",
              "    }\n",
              "\n",
              "    [theme=dark] .colab-df-convert {\n",
              "      background-color: #3B4455;\n",
              "      fill: #D2E3FC;\n",
              "    }\n",
              "\n",
              "    [theme=dark] .colab-df-convert:hover {\n",
              "      background-color: #434B5C;\n",
              "      box-shadow: 0px 1px 3px 1px rgba(0, 0, 0, 0.15);\n",
              "      filter: drop-shadow(0px 1px 2px rgba(0, 0, 0, 0.3));\n",
              "      fill: #FFFFFF;\n",
              "    }\n",
              "  </style>\n",
              "\n",
              "      <script>\n",
              "        const buttonEl =\n",
              "          document.querySelector('#df-496cee1d-a8f5-47a2-ac35-d3888971d015 button.colab-df-convert');\n",
              "        buttonEl.style.display =\n",
              "          google.colab.kernel.accessAllowed ? 'block' : 'none';\n",
              "\n",
              "        async function convertToInteractive(key) {\n",
              "          const element = document.querySelector('#df-496cee1d-a8f5-47a2-ac35-d3888971d015');\n",
              "          const dataTable =\n",
              "            await google.colab.kernel.invokeFunction('convertToInteractive',\n",
              "                                                     [key], {});\n",
              "          if (!dataTable) return;\n",
              "\n",
              "          const docLinkHtml = 'Like what you see? Visit the ' +\n",
              "            '<a target=\"_blank\" href=https://colab.research.google.com/notebooks/data_table.ipynb>data table notebook</a>'\n",
              "            + ' to learn more about interactive tables.';\n",
              "          element.innerHTML = '';\n",
              "          dataTable['output_type'] = 'display_data';\n",
              "          await google.colab.output.renderOutput(dataTable, element);\n",
              "          const docLink = document.createElement('div');\n",
              "          docLink.innerHTML = docLinkHtml;\n",
              "          element.appendChild(docLink);\n",
              "        }\n",
              "      </script>\n",
              "    </div>\n",
              "  </div>\n",
              "  "
            ]
          },
          "metadata": {},
          "execution_count": 6
        }
      ]
    },
    {
      "cell_type": "code",
      "source": [
        "y_train = train['label']\n",
        "x_train = train.drop('label', axis=1)\n",
        "y_train.shape, x_train.shape"
      ],
      "metadata": {
        "_uuid": "6f3b16727e7f84cbd0ccbb752cb66173bcfb24cb",
        "colab": {
          "base_uri": "https://localhost:8080/"
        },
        "id": "e0A7fMa63dqq",
        "outputId": "e2d56823-554a-40bf-900b-c39015035b41",
        "execution": {
          "iopub.status.busy": "2023-04-15T10:30:19.510128Z",
          "iopub.execute_input": "2023-04-15T10:30:19.510822Z",
          "iopub.status.idle": "2023-04-15T10:30:19.898957Z",
          "shell.execute_reply.started": "2023-04-15T10:30:19.510784Z",
          "shell.execute_reply": "2023-04-15T10:30:19.897065Z"
        },
        "trusted": true
      },
      "execution_count": null,
      "outputs": [
        {
          "output_type": "execute_result",
          "data": {
            "text/plain": [
              "((59241,), (59241, 784))"
            ]
          },
          "metadata": {},
          "execution_count": 7
        }
      ]
    },
    {
      "cell_type": "code",
      "source": [
        "x_train.head(5)"
      ],
      "metadata": {
        "_uuid": "1aeaab5d2a6bad66546f0a8b2213756b5b23c457",
        "colab": {
          "base_uri": "https://localhost:8080/",
          "height": 299
        },
        "id": "sHMxAlci3dqs",
        "outputId": "4a87c431-1468-4dd0-94ac-b349b197f074",
        "execution": {
          "iopub.status.busy": "2023-04-15T10:30:20.475306Z",
          "iopub.execute_input": "2023-04-15T10:30:20.476203Z",
          "iopub.status.idle": "2023-04-15T10:30:20.494478Z",
          "shell.execute_reply.started": "2023-04-15T10:30:20.476150Z",
          "shell.execute_reply": "2023-04-15T10:30:20.493539Z"
        },
        "trusted": true
      },
      "execution_count": null,
      "outputs": [
        {
          "output_type": "execute_result",
          "data": {
            "text/plain": [
              "   pixel0  pixel1  pixel2  pixel3  pixel4  pixel5  pixel6  pixel7  pixel8  \\\n",
              "0       0       0       0       0       0       0       0       0       0   \n",
              "1       0       0       0       0       0       0       0       0       0   \n",
              "2       0       0       0       0       0       0       0       0       0   \n",
              "3       0       0       0       0       0       0       0       0       0   \n",
              "4       0       0       0       0       0       0       0       0       0   \n",
              "\n",
              "   pixel9  ...  pixel774  pixel775  pixel776  pixel777  pixel778  pixel779  \\\n",
              "0       0  ...         0         0         0         0         0         0   \n",
              "1       0  ...         0         0         0         0         0         0   \n",
              "2       0  ...         0         0         0         0         0         0   \n",
              "3       0  ...         0         0         0         0         0         0   \n",
              "4       0  ...         0         0         0         0         0         0   \n",
              "\n",
              "   pixel780  pixel781  pixel782  pixel783  \n",
              "0         0         0         0         0  \n",
              "1         0         0         0         0  \n",
              "2         0         0         0         0  \n",
              "3         0         0         0         0  \n",
              "4         0         0         0         0  \n",
              "\n",
              "[5 rows x 784 columns]"
            ],
            "text/html": [
              "\n",
              "  <div id=\"df-c29fe058-58c9-4100-b4c6-05f307a7de1b\">\n",
              "    <div class=\"colab-df-container\">\n",
              "      <div>\n",
              "<style scoped>\n",
              "    .dataframe tbody tr th:only-of-type {\n",
              "        vertical-align: middle;\n",
              "    }\n",
              "\n",
              "    .dataframe tbody tr th {\n",
              "        vertical-align: top;\n",
              "    }\n",
              "\n",
              "    .dataframe thead th {\n",
              "        text-align: right;\n",
              "    }\n",
              "</style>\n",
              "<table border=\"1\" class=\"dataframe\">\n",
              "  <thead>\n",
              "    <tr style=\"text-align: right;\">\n",
              "      <th></th>\n",
              "      <th>pixel0</th>\n",
              "      <th>pixel1</th>\n",
              "      <th>pixel2</th>\n",
              "      <th>pixel3</th>\n",
              "      <th>pixel4</th>\n",
              "      <th>pixel5</th>\n",
              "      <th>pixel6</th>\n",
              "      <th>pixel7</th>\n",
              "      <th>pixel8</th>\n",
              "      <th>pixel9</th>\n",
              "      <th>...</th>\n",
              "      <th>pixel774</th>\n",
              "      <th>pixel775</th>\n",
              "      <th>pixel776</th>\n",
              "      <th>pixel777</th>\n",
              "      <th>pixel778</th>\n",
              "      <th>pixel779</th>\n",
              "      <th>pixel780</th>\n",
              "      <th>pixel781</th>\n",
              "      <th>pixel782</th>\n",
              "      <th>pixel783</th>\n",
              "    </tr>\n",
              "  </thead>\n",
              "  <tbody>\n",
              "    <tr>\n",
              "      <th>0</th>\n",
              "      <td>0</td>\n",
              "      <td>0</td>\n",
              "      <td>0</td>\n",
              "      <td>0</td>\n",
              "      <td>0</td>\n",
              "      <td>0</td>\n",
              "      <td>0</td>\n",
              "      <td>0</td>\n",
              "      <td>0</td>\n",
              "      <td>0</td>\n",
              "      <td>...</td>\n",
              "      <td>0</td>\n",
              "      <td>0</td>\n",
              "      <td>0</td>\n",
              "      <td>0</td>\n",
              "      <td>0</td>\n",
              "      <td>0</td>\n",
              "      <td>0</td>\n",
              "      <td>0</td>\n",
              "      <td>0</td>\n",
              "      <td>0</td>\n",
              "    </tr>\n",
              "    <tr>\n",
              "      <th>1</th>\n",
              "      <td>0</td>\n",
              "      <td>0</td>\n",
              "      <td>0</td>\n",
              "      <td>0</td>\n",
              "      <td>0</td>\n",
              "      <td>0</td>\n",
              "      <td>0</td>\n",
              "      <td>0</td>\n",
              "      <td>0</td>\n",
              "      <td>0</td>\n",
              "      <td>...</td>\n",
              "      <td>0</td>\n",
              "      <td>0</td>\n",
              "      <td>0</td>\n",
              "      <td>0</td>\n",
              "      <td>0</td>\n",
              "      <td>0</td>\n",
              "      <td>0</td>\n",
              "      <td>0</td>\n",
              "      <td>0</td>\n",
              "      <td>0</td>\n",
              "    </tr>\n",
              "    <tr>\n",
              "      <th>2</th>\n",
              "      <td>0</td>\n",
              "      <td>0</td>\n",
              "      <td>0</td>\n",
              "      <td>0</td>\n",
              "      <td>0</td>\n",
              "      <td>0</td>\n",
              "      <td>0</td>\n",
              "      <td>0</td>\n",
              "      <td>0</td>\n",
              "      <td>0</td>\n",
              "      <td>...</td>\n",
              "      <td>0</td>\n",
              "      <td>0</td>\n",
              "      <td>0</td>\n",
              "      <td>0</td>\n",
              "      <td>0</td>\n",
              "      <td>0</td>\n",
              "      <td>0</td>\n",
              "      <td>0</td>\n",
              "      <td>0</td>\n",
              "      <td>0</td>\n",
              "    </tr>\n",
              "    <tr>\n",
              "      <th>3</th>\n",
              "      <td>0</td>\n",
              "      <td>0</td>\n",
              "      <td>0</td>\n",
              "      <td>0</td>\n",
              "      <td>0</td>\n",
              "      <td>0</td>\n",
              "      <td>0</td>\n",
              "      <td>0</td>\n",
              "      <td>0</td>\n",
              "      <td>0</td>\n",
              "      <td>...</td>\n",
              "      <td>0</td>\n",
              "      <td>0</td>\n",
              "      <td>0</td>\n",
              "      <td>0</td>\n",
              "      <td>0</td>\n",
              "      <td>0</td>\n",
              "      <td>0</td>\n",
              "      <td>0</td>\n",
              "      <td>0</td>\n",
              "      <td>0</td>\n",
              "    </tr>\n",
              "    <tr>\n",
              "      <th>4</th>\n",
              "      <td>0</td>\n",
              "      <td>0</td>\n",
              "      <td>0</td>\n",
              "      <td>0</td>\n",
              "      <td>0</td>\n",
              "      <td>0</td>\n",
              "      <td>0</td>\n",
              "      <td>0</td>\n",
              "      <td>0</td>\n",
              "      <td>0</td>\n",
              "      <td>...</td>\n",
              "      <td>0</td>\n",
              "      <td>0</td>\n",
              "      <td>0</td>\n",
              "      <td>0</td>\n",
              "      <td>0</td>\n",
              "      <td>0</td>\n",
              "      <td>0</td>\n",
              "      <td>0</td>\n",
              "      <td>0</td>\n",
              "      <td>0</td>\n",
              "    </tr>\n",
              "  </tbody>\n",
              "</table>\n",
              "<p>5 rows × 784 columns</p>\n",
              "</div>\n",
              "      <button class=\"colab-df-convert\" onclick=\"convertToInteractive('df-c29fe058-58c9-4100-b4c6-05f307a7de1b')\"\n",
              "              title=\"Convert this dataframe to an interactive table.\"\n",
              "              style=\"display:none;\">\n",
              "        \n",
              "  <svg xmlns=\"http://www.w3.org/2000/svg\" height=\"24px\"viewBox=\"0 0 24 24\"\n",
              "       width=\"24px\">\n",
              "    <path d=\"M0 0h24v24H0V0z\" fill=\"none\"/>\n",
              "    <path d=\"M18.56 5.44l.94 2.06.94-2.06 2.06-.94-2.06-.94-.94-2.06-.94 2.06-2.06.94zm-11 1L8.5 8.5l.94-2.06 2.06-.94-2.06-.94L8.5 2.5l-.94 2.06-2.06.94zm10 10l.94 2.06.94-2.06 2.06-.94-2.06-.94-.94-2.06-.94 2.06-2.06.94z\"/><path d=\"M17.41 7.96l-1.37-1.37c-.4-.4-.92-.59-1.43-.59-.52 0-1.04.2-1.43.59L10.3 9.45l-7.72 7.72c-.78.78-.78 2.05 0 2.83L4 21.41c.39.39.9.59 1.41.59.51 0 1.02-.2 1.41-.59l7.78-7.78 2.81-2.81c.8-.78.8-2.07 0-2.86zM5.41 20L4 18.59l7.72-7.72 1.47 1.35L5.41 20z\"/>\n",
              "  </svg>\n",
              "      </button>\n",
              "      \n",
              "  <style>\n",
              "    .colab-df-container {\n",
              "      display:flex;\n",
              "      flex-wrap:wrap;\n",
              "      gap: 12px;\n",
              "    }\n",
              "\n",
              "    .colab-df-convert {\n",
              "      background-color: #E8F0FE;\n",
              "      border: none;\n",
              "      border-radius: 50%;\n",
              "      cursor: pointer;\n",
              "      display: none;\n",
              "      fill: #1967D2;\n",
              "      height: 32px;\n",
              "      padding: 0 0 0 0;\n",
              "      width: 32px;\n",
              "    }\n",
              "\n",
              "    .colab-df-convert:hover {\n",
              "      background-color: #E2EBFA;\n",
              "      box-shadow: 0px 1px 2px rgba(60, 64, 67, 0.3), 0px 1px 3px 1px rgba(60, 64, 67, 0.15);\n",
              "      fill: #174EA6;\n",
              "    }\n",
              "\n",
              "    [theme=dark] .colab-df-convert {\n",
              "      background-color: #3B4455;\n",
              "      fill: #D2E3FC;\n",
              "    }\n",
              "\n",
              "    [theme=dark] .colab-df-convert:hover {\n",
              "      background-color: #434B5C;\n",
              "      box-shadow: 0px 1px 3px 1px rgba(0, 0, 0, 0.15);\n",
              "      filter: drop-shadow(0px 1px 2px rgba(0, 0, 0, 0.3));\n",
              "      fill: #FFFFFF;\n",
              "    }\n",
              "  </style>\n",
              "\n",
              "      <script>\n",
              "        const buttonEl =\n",
              "          document.querySelector('#df-c29fe058-58c9-4100-b4c6-05f307a7de1b button.colab-df-convert');\n",
              "        buttonEl.style.display =\n",
              "          google.colab.kernel.accessAllowed ? 'block' : 'none';\n",
              "\n",
              "        async function convertToInteractive(key) {\n",
              "          const element = document.querySelector('#df-c29fe058-58c9-4100-b4c6-05f307a7de1b');\n",
              "          const dataTable =\n",
              "            await google.colab.kernel.invokeFunction('convertToInteractive',\n",
              "                                                     [key], {});\n",
              "          if (!dataTable) return;\n",
              "\n",
              "          const docLinkHtml = 'Like what you see? Visit the ' +\n",
              "            '<a target=\"_blank\" href=https://colab.research.google.com/notebooks/data_table.ipynb>data table notebook</a>'\n",
              "            + ' to learn more about interactive tables.';\n",
              "          element.innerHTML = '';\n",
              "          dataTable['output_type'] = 'display_data';\n",
              "          await google.colab.output.renderOutput(dataTable, element);\n",
              "          const docLink = document.createElement('div');\n",
              "          docLink.innerHTML = docLinkHtml;\n",
              "          element.appendChild(docLink);\n",
              "        }\n",
              "      </script>\n",
              "    </div>\n",
              "  </div>\n",
              "  "
            ]
          },
          "metadata": {},
          "execution_count": 8
        }
      ]
    },
    {
      "cell_type": "code",
      "source": [
        "y_train.value_counts()"
      ],
      "metadata": {
        "_uuid": "4266188b33bba2ca07600fa9dff89949de0d6f6a",
        "colab": {
          "base_uri": "https://localhost:8080/"
        },
        "id": "OlQ6xuR83dqu",
        "outputId": "eb9293fc-53a1-4a51-a386-4e79586afad0",
        "execution": {
          "iopub.status.busy": "2023-04-15T10:30:22.242158Z",
          "iopub.execute_input": "2023-04-15T10:30:22.242516Z",
          "iopub.status.idle": "2023-04-15T10:30:22.255884Z",
          "shell.execute_reply.started": "2023-04-15T10:30:22.242482Z",
          "shell.execute_reply": "2023-04-15T10:30:22.254584Z"
        },
        "trusted": true
      },
      "execution_count": null,
      "outputs": [
        {
          "output_type": "execute_result",
          "data": {
            "text/plain": [
              "0    5925\n",
              "1    5924\n",
              "2    5924\n",
              "3    5924\n",
              "4    5924\n",
              "5    5924\n",
              "6    5924\n",
              "7    5924\n",
              "8    5924\n",
              "9    5924\n",
              "Name: label, dtype: int64"
            ]
          },
          "metadata": {},
          "execution_count": 9
        }
      ]
    },
    {
      "cell_type": "code",
      "source": [
        "y_test = test['0']\n",
        "x_test = test.drop('0', axis=1)\n",
        "y_test.shape, x_test.shape"
      ],
      "metadata": {
        "id": "m4EHUjup6L7X",
        "outputId": "6361b6cf-3808-46e4-cb15-8961b302594b",
        "colab": {
          "base_uri": "https://localhost:8080/"
        }
      },
      "execution_count": null,
      "outputs": [
        {
          "output_type": "execute_result",
          "data": {
            "text/plain": [
              "((9990,), (9990, 784))"
            ]
          },
          "metadata": {},
          "execution_count": 10
        }
      ]
    },
    {
      "cell_type": "code",
      "source": [
        "y_test.value_counts()"
      ],
      "metadata": {
        "id": "OsdXTv8o6xf2",
        "outputId": "c6b83170-8ac5-403f-f2d1-08df9bd68364",
        "colab": {
          "base_uri": "https://localhost:8080/"
        }
      },
      "execution_count": null,
      "outputs": [
        {
          "output_type": "execute_result",
          "data": {
            "text/plain": [
              "0    999\n",
              "1    999\n",
              "2    999\n",
              "3    999\n",
              "4    999\n",
              "5    999\n",
              "6    999\n",
              "7    999\n",
              "8    999\n",
              "9    999\n",
              "Name: 0, dtype: int64"
            ]
          },
          "metadata": {},
          "execution_count": 11
        }
      ]
    },
    {
      "cell_type": "code",
      "source": [
        "print(\"Number of images:\", len(test))"
      ],
      "metadata": {
        "colab": {
          "base_uri": "https://localhost:8080/"
        },
        "id": "t4u7fe23qALm",
        "outputId": "ece7dd98-1dff-4ba0-b1a7-cafba414237f"
      },
      "execution_count": null,
      "outputs": [
        {
          "output_type": "stream",
          "name": "stdout",
          "text": [
            "Number of images: 9990\n"
          ]
        }
      ]
    },
    {
      "cell_type": "code",
      "source": [
        "x_train.isnull().any().describe()"
      ],
      "metadata": {
        "_uuid": "f9ac1b11b280d2448cfd173768ef738893cedf53",
        "colab": {
          "base_uri": "https://localhost:8080/"
        },
        "id": "lN-Ey70b3dqw",
        "outputId": "00ea9faf-3bc5-4910-9c4c-2463ec52f72d",
        "execution": {
          "iopub.status.busy": "2023-04-15T10:30:24.202603Z",
          "iopub.execute_input": "2023-04-15T10:30:24.202965Z",
          "iopub.status.idle": "2023-04-15T10:30:24.254990Z",
          "shell.execute_reply.started": "2023-04-15T10:30:24.202931Z",
          "shell.execute_reply": "2023-04-15T10:30:24.252816Z"
        },
        "trusted": true
      },
      "execution_count": null,
      "outputs": [
        {
          "output_type": "execute_result",
          "data": {
            "text/plain": [
              "count       784\n",
              "unique        1\n",
              "top       False\n",
              "freq        784\n",
              "dtype: object"
            ]
          },
          "metadata": {},
          "execution_count": 13
        }
      ]
    },
    {
      "cell_type": "code",
      "source": [
        "x_test.isnull().any().describe()"
      ],
      "metadata": {
        "_uuid": "897132104feba4ccc25d3f5fd2c0059ae9a01d41",
        "colab": {
          "base_uri": "https://localhost:8080/"
        },
        "id": "ts5H2Z4S3dqy",
        "outputId": "f164f46d-92d2-48d8-ec39-47205fbba15c",
        "execution": {
          "iopub.status.busy": "2023-04-15T10:30:25.814757Z",
          "iopub.execute_input": "2023-04-15T10:30:25.815132Z",
          "iopub.status.idle": "2023-04-15T10:30:25.834518Z",
          "shell.execute_reply.started": "2023-04-15T10:30:25.815098Z",
          "shell.execute_reply": "2023-04-15T10:30:25.833585Z"
        },
        "trusted": true
      },
      "execution_count": null,
      "outputs": [
        {
          "output_type": "execute_result",
          "data": {
            "text/plain": [
              "count       784\n",
              "unique        1\n",
              "top       False\n",
              "freq        784\n",
              "dtype: object"
            ]
          },
          "metadata": {},
          "execution_count": 14
        }
      ]
    },
    {
      "cell_type": "markdown",
      "source": [
        " **Normalization**"
      ],
      "metadata": {
        "_uuid": "1c45b2495198a55b27f54a8326eef55fdbeedbcc",
        "id": "8tOypXuM3dqz"
      }
    },
    {
      "cell_type": "code",
      "source": [
        "x_train = x_train/255.0\n",
        "x_test = x_test/255.0"
      ],
      "metadata": {
        "_uuid": "21159f3cab1dcb62b57a093e34ff8e4dd325d22f",
        "id": "iz89BAdR3dq2",
        "execution": {
          "iopub.status.busy": "2023-04-15T10:30:29.099480Z",
          "iopub.execute_input": "2023-04-15T10:30:29.100195Z",
          "iopub.status.idle": "2023-04-15T10:30:29.661435Z",
          "shell.execute_reply.started": "2023-04-15T10:30:29.100157Z",
          "shell.execute_reply": "2023-04-15T10:30:29.660399Z"
        },
        "trusted": true
      },
      "execution_count": null,
      "outputs": []
    },
    {
      "cell_type": "markdown",
      "source": [
        "**Reshape**\n",
        "* [np.reshape](https://docs.scipy.org/doc/numpy-1.15.1/reference/generated/numpy.reshape.html) detail\n",
        "* x_train is numpy.ndarray format now"
      ],
      "metadata": {
        "_uuid": "f26b64a8db332453962296abea78f5ec87a38a0e",
        "id": "16wTknsH3dq3"
      }
    },
    {
      "cell_type": "code",
      "source": [
        "x_train = x_train.values.reshape(-1,28,28,1)"
      ],
      "metadata": {
        "_uuid": "7ca2954b8a064524c97c8078bb20ab3f39a35a95",
        "id": "kDTHNXoZ3dq4",
        "execution": {
          "iopub.status.busy": "2023-04-15T10:30:30.937391Z",
          "iopub.execute_input": "2023-04-15T10:30:30.938076Z",
          "iopub.status.idle": "2023-04-15T10:30:30.943088Z",
          "shell.execute_reply.started": "2023-04-15T10:30:30.938037Z",
          "shell.execute_reply": "2023-04-15T10:30:30.941904Z"
        },
        "trusted": true
      },
      "execution_count": null,
      "outputs": []
    },
    {
      "cell_type": "code",
      "source": [
        "x_test = x_test.values.reshape(-1,28,28,1)"
      ],
      "metadata": {
        "_uuid": "42c444ef34bd5415a05906cbb077247d047c8a83",
        "id": "yntoFc0F3dq5",
        "execution": {
          "iopub.status.busy": "2023-04-15T10:30:31.421228Z",
          "iopub.execute_input": "2023-04-15T10:30:31.421601Z",
          "iopub.status.idle": "2023-04-15T10:30:31.427026Z",
          "shell.execute_reply.started": "2023-04-15T10:30:31.421565Z",
          "shell.execute_reply": "2023-04-15T10:30:31.425863Z"
        },
        "trusted": true
      },
      "execution_count": null,
      "outputs": []
    },
    {
      "cell_type": "code",
      "source": [
        "x_test.shape"
      ],
      "metadata": {
        "_uuid": "20b39258892baf82131d657fb9476851c7847f2f",
        "colab": {
          "base_uri": "https://localhost:8080/"
        },
        "id": "zMaZXaQ73dq5",
        "outputId": "f5554b66-f9bc-440b-eb25-3a8770ddb064",
        "execution": {
          "iopub.status.busy": "2023-04-15T10:30:31.923112Z",
          "iopub.execute_input": "2023-04-15T10:30:31.923809Z",
          "iopub.status.idle": "2023-04-15T10:30:31.930137Z",
          "shell.execute_reply.started": "2023-04-15T10:30:31.923770Z",
          "shell.execute_reply": "2023-04-15T10:30:31.929001Z"
        },
        "trusted": true
      },
      "execution_count": null,
      "outputs": [
        {
          "output_type": "execute_result",
          "data": {
            "text/plain": [
              "(9990, 28, 28, 1)"
            ]
          },
          "metadata": {},
          "execution_count": 18
        }
      ]
    },
    {
      "cell_type": "markdown",
      "source": [
        "**Label Encoding**\n",
        "* Use the Scikit to make one-hot encoding label (Be careful about the format), which must be used with **np.array**.\n",
        "* Detail [OneHotEncoder](http://scikit-learn.org/stable/modules/generated/sklearn.preprocessing.OneHotEncoder.html)"
      ],
      "metadata": {
        "_uuid": "9050d6c41594fe422082ebf5e205a2ada0e01759",
        "id": "E6zw3CGQ3dq6"
      }
    },
    {
      "cell_type": "code",
      "source": [
        "# Use the Scikit to make one-hot encoding label\n",
        "y_train = pd.DataFrame(data=y_train)\n",
        "one_hot = OneHotEncoder(handle_unknown='ignore')\n",
        "one_hot.fit(y_train.values)\n",
        "y_train = one_hot.transform(y_train.values).toarray()"
      ],
      "metadata": {
        "_uuid": "d091f72d12f3e5aef7162b620a28848e376650cb",
        "id": "ZK9VDd183dq7",
        "execution": {
          "iopub.status.busy": "2023-04-15T10:30:34.416577Z",
          "iopub.execute_input": "2023-04-15T10:30:34.417480Z",
          "iopub.status.idle": "2023-04-15T10:30:34.447361Z",
          "shell.execute_reply.started": "2023-04-15T10:30:34.417429Z",
          "shell.execute_reply": "2023-04-15T10:30:34.446302Z"
        },
        "trusted": true
      },
      "execution_count": null,
      "outputs": []
    },
    {
      "cell_type": "code",
      "source": [
        "# Use the Scikit to make one-hot encoding label\n",
        "y_test = pd.DataFrame(data=y_test)\n",
        "one_hot = OneHotEncoder(handle_unknown='ignore')\n",
        "one_hot.fit(y_test.values)\n",
        "y_test = one_hot.transform(y_test.values).toarray()"
      ],
      "metadata": {
        "id": "lSNcM7QQYBfj"
      },
      "execution_count": null,
      "outputs": []
    },
    {
      "cell_type": "markdown",
      "source": [
        "* Now, y_train becomes** numpy.ndarray**"
      ],
      "metadata": {
        "_uuid": "deb9955e0190b33d3e039aee691eb6e294c49b62",
        "id": "lnQLZswg3dq8"
      }
    },
    {
      "cell_type": "code",
      "source": [
        "y_train, y_train.shape"
      ],
      "metadata": {
        "_uuid": "c4c51eb3537e0122b5332bcf53830ea92b308b17",
        "colab": {
          "base_uri": "https://localhost:8080/"
        },
        "id": "I7hurDLS3dq8",
        "outputId": "2b42bbdb-c808-4868-e51d-96b407c2cb76",
        "execution": {
          "iopub.status.busy": "2023-04-15T10:30:35.812346Z",
          "iopub.execute_input": "2023-04-15T10:30:35.812738Z",
          "iopub.status.idle": "2023-04-15T10:30:35.822250Z",
          "shell.execute_reply.started": "2023-04-15T10:30:35.812702Z",
          "shell.execute_reply": "2023-04-15T10:30:35.820856Z"
        },
        "trusted": true
      },
      "execution_count": null,
      "outputs": [
        {
          "output_type": "execute_result",
          "data": {
            "text/plain": [
              "(array([[1., 0., 0., ..., 0., 0., 0.],\n",
              "        [1., 0., 0., ..., 0., 0., 0.],\n",
              "        [1., 0., 0., ..., 0., 0., 0.],\n",
              "        ...,\n",
              "        [0., 0., 0., ..., 0., 0., 1.],\n",
              "        [0., 0., 0., ..., 0., 0., 1.],\n",
              "        [0., 0., 0., ..., 0., 0., 1.]]),\n",
              " (59241, 10))"
            ]
          },
          "metadata": {},
          "execution_count": 21
        }
      ]
    },
    {
      "cell_type": "markdown",
      "source": [
        "**Splitting dataset as train data and cross-validation data**\n",
        "* Detail [train_test_split](http://scikit-learn.org/stable/modules/generated/sklearn.model_selection.train_test_split.html)"
      ],
      "metadata": {
        "_uuid": "ec9f6795bf09f76ab273b1e44c2c0dc2b50f69ef",
        "id": "ea8G0BkF3dq9",
        "trusted": true
      }
    },
    {
      "cell_type": "code",
      "source": [
        "from sklearn.model_selection import train_test_split\n",
        "random_seed = 3\n",
        "x_train, x_val, y_train, y_val = train_test_split(x_train, y_train, test_size=0.1, random_state=random_seed)\n",
        "x_train.shape, x_val.shape, y_train.shape, y_val.shape"
      ],
      "metadata": {
        "_uuid": "977adfeaeb2247845521ef0228a7e5bbca23b010",
        "colab": {
          "base_uri": "https://localhost:8080/"
        },
        "id": "fr_ckxXo3dq9",
        "outputId": "84b87c11-e8b3-4429-a055-dc103d9a8fe3",
        "execution": {
          "iopub.status.busy": "2023-04-15T10:30:38.059377Z",
          "iopub.execute_input": "2023-04-15T10:30:38.060345Z",
          "iopub.status.idle": "2023-04-15T10:30:40.039587Z",
          "shell.execute_reply.started": "2023-04-15T10:30:38.060294Z",
          "shell.execute_reply": "2023-04-15T10:30:40.038444Z"
        },
        "trusted": true
      },
      "execution_count": null,
      "outputs": [
        {
          "output_type": "execute_result",
          "data": {
            "text/plain": [
              "((53316, 28, 28, 1), (5925, 28, 28, 1), (53316, 10), (5925, 10))"
            ]
          },
          "metadata": {},
          "execution_count": 22
        }
      ]
    },
    {
      "cell_type": "code",
      "source": [
        "from sklearn.model_selection import train_test_split\n",
        "random_seed = 3\n",
        "x_te, x_test, y_te, y_test = train_test_split(x_test, y_test, test_size=0.0001, random_state=random_seed)\n",
        "x_te.shape, x_test.shape, y_te.shape, y_test.shape"
      ],
      "metadata": {
        "id": "a6CUkQz_RGrZ",
        "outputId": "9dc32c76-04ed-4e7c-b971-b11fed59e732",
        "colab": {
          "base_uri": "https://localhost:8080/"
        }
      },
      "execution_count": null,
      "outputs": [
        {
          "output_type": "execute_result",
          "data": {
            "text/plain": [
              "((9989, 28, 28, 1), (1, 28, 28, 1), (9989, 10), (1, 10))"
            ]
          },
          "metadata": {},
          "execution_count": 23
        }
      ]
    },
    {
      "cell_type": "code",
      "source": [
        "g = plt.imshow(x_test[0][:,:,0])"
      ],
      "metadata": {
        "_uuid": "57a8c1decf9f369c80ed2c61e7f8285d208b3b27",
        "colab": {
          "base_uri": "https://localhost:8080/",
          "height": 430
        },
        "id": "CCnM9QmZ3dq-",
        "outputId": "0284a61a-f6cb-4f3d-c0f3-4cbaaa917d95",
        "execution": {
          "iopub.status.busy": "2023-04-15T10:30:40.041782Z",
          "iopub.execute_input": "2023-04-15T10:30:40.042182Z",
          "iopub.status.idle": "2023-04-15T10:30:40.269207Z",
          "shell.execute_reply.started": "2023-04-15T10:30:40.042140Z",
          "shell.execute_reply": "2023-04-15T10:30:40.268295Z"
        },
        "trusted": true
      },
      "execution_count": null,
      "outputs": [
        {
          "output_type": "display_data",
          "data": {
            "text/plain": [
              "<Figure size 640x480 with 1 Axes>"
            ],
            "image/png": "[encoded data removed]"
          },
          "metadata": {}
        }
      ]
    },
    {
      "cell_type": "markdown",
      "source": [
        "**Build AlexNet with Keras**"
      ],
      "metadata": {
        "_uuid": "cc25e588a5079f1aceab4c3d608661454398cb81",
        "id": "a1sapTKf3dq-",
        "trusted": true
      }
    },
    {
      "cell_type": "code",
      "source": [
        "from keras.models import Sequential\n",
        "from keras.layers import Dense, Activation, Dropout, Flatten, Conv2D, MaxPooling2D\n",
        "from tensorflow.keras.layers import BatchNormalization\n",
        "\n",
        "model = Sequential([\n",
        "    Conv2D(filters = 64, input_shape=(28,28,1), kernel_size=(3,3), strides=(1,1), padding='valid'),\n",
        "    Activation('relu'),\n",
        "    MaxPooling2D(pool_size=(2,2), strides=(1,1), padding='valid'),\n",
        "    BatchNormalization(),\n",
        "    \n",
        "    Conv2D(filters=128, kernel_size=(3,3), strides=(1,1), padding='valid'),\n",
        "    Activation('relu'),\n",
        "    MaxPooling2D(pool_size=(2,2), strides=(1,1), padding='valid'),\n",
        "    BatchNormalization(),\n",
        "    \n",
        "    Conv2D(filters=192, kernel_size=(1,1), strides=(1,1), padding='valid'),\n",
        "    Activation('relu'),\n",
        "    BatchNormalization(),\n",
        "    \n",
        "    Conv2D(filters=192, kernel_size=(3,3), strides=(1,1), padding='valid'),\n",
        "    Activation('relu'),\n",
        "    BatchNormalization(),\n",
        "\n",
        "    Conv2D(filters=128, kernel_size=(3,3), strides=(1,1), padding='valid'),\n",
        "    Activation('relu'),\n",
        "    MaxPooling2D(pool_size=(2,2), strides=(1,1), padding='valid'),\n",
        "    BatchNormalization(),\n",
        "    \n",
        "    Flatten(),\n",
        "    Dense(2048),\n",
        "    Activation('relu'),\n",
        "    Dropout(0.4),\n",
        "    BatchNormalization(),\n",
        "    \n",
        "    Dense(2048),\n",
        "    Activation('relu'),\n",
        "    Dropout(0.4),\n",
        "    BatchNormalization(),\n",
        "\n",
        "    Dense(800),\n",
        "    Activation('relu'),\n",
        "    Dropout(0.4),\n",
        "    BatchNormalization(),\n",
        "    \n",
        "    Dense(10),\n",
        "    Activation('softmax'),\n",
        "])"
      ],
      "metadata": {
        "_uuid": "e41b1c7e84f92a85027835acb87e4c1a533692cc",
        "id": "M9QYr1Ru3dq_",
        "execution": {
          "iopub.status.busy": "2023-04-15T10:30:44.890482Z",
          "iopub.execute_input": "2023-04-15T10:30:44.891109Z",
          "iopub.status.idle": "2023-04-15T10:30:55.550512Z",
          "shell.execute_reply.started": "2023-04-15T10:30:44.891071Z",
          "shell.execute_reply": "2023-04-15T10:30:55.549401Z"
        },
        "trusted": true
      },
      "execution_count": null,
      "outputs": []
    },
    {
      "cell_type": "code",
      "source": [
        "model.summary()"
      ],
      "metadata": {
        "colab": {
          "base_uri": "https://localhost:8080/"
        },
        "id": "yBcLbdrG4RpO",
        "outputId": "9eff435e-0c53-4ec3-f304-40d07ce33bc9",
        "execution": {
          "iopub.status.busy": "2023-04-15T10:30:55.552560Z",
          "iopub.execute_input": "2023-04-15T10:30:55.553146Z",
          "iopub.status.idle": "2023-04-15T10:30:55.633658Z",
          "shell.execute_reply.started": "2023-04-15T10:30:55.553107Z",
          "shell.execute_reply": "2023-04-15T10:30:55.632842Z"
        },
        "trusted": true
      },
      "execution_count": null,
      "outputs": [
        {
          "output_type": "stream",
          "name": "stdout",
          "text": [
            "Model: \"sequential\"\n",
            "_________________________________________________________________\n",
            " Layer (type)                Output Shape              Param #   \n",
            "=================================================================\n",
            " conv2d (Conv2D)             (None, 26, 26, 64)        640       \n",
            "                                                                 \n",
            " activation (Activation)     (None, 26, 26, 64)        0         \n",
            "                                                                 \n",
            " max_pooling2d (MaxPooling2D  (None, 25, 25, 64)       0         \n",
            " )                                                               \n",
            "                                                                 \n",
            " batch_normalization (BatchN  (None, 25, 25, 64)       256       \n",
            " ormalization)                                                   \n",
            "                                                                 \n",
            " conv2d_1 (Conv2D)           (None, 23, 23, 128)       73856     \n",
            "                                                                 \n",
            " activation_1 (Activation)   (None, 23, 23, 128)       0         \n",
            "                                                                 \n",
            " max_pooling2d_1 (MaxPooling  (None, 22, 22, 128)      0         \n",
            " 2D)                                                             \n",
            "                                                                 \n",
            " batch_normalization_1 (Batc  (None, 22, 22, 128)      512       \n",
            " hNormalization)                                                 \n",
            "                                                                 \n",
            " conv2d_2 (Conv2D)           (None, 22, 22, 192)       24768     \n",
            "                                                                 \n",
            " activation_2 (Activation)   (None, 22, 22, 192)       0         \n",
            "                                                                 \n",
            " batch_normalization_2 (Batc  (None, 22, 22, 192)      768       \n",
            " hNormalization)                                                 \n",
            "                                                                 \n",
            " conv2d_3 (Conv2D)           (None, 20, 20, 192)       331968    \n",
            "                                                                 \n",
            " activation_3 (Activation)   (None, 20, 20, 192)       0         \n",
            "                                                                 \n",
            " batch_normalization_3 (Batc  (None, 20, 20, 192)      768       \n",
            " hNormalization)                                                 \n",
            "                                                                 \n",
            " conv2d_4 (Conv2D)           (None, 18, 18, 128)       221312    \n",
            "                                                                 \n",
            " activation_4 (Activation)   (None, 18, 18, 128)       0         \n",
            "                                                                 \n",
            " max_pooling2d_2 (MaxPooling  (None, 17, 17, 128)      0         \n",
            " 2D)                                                             \n",
            "                                                                 \n",
            " batch_normalization_4 (Batc  (None, 17, 17, 128)      512       \n",
            " hNormalization)                                                 \n",
            "                                                                 \n",
            " flatten (Flatten)           (None, 36992)             0         \n",
            "                                                                 \n",
            " dense (Dense)               (None, 2048)              75761664  \n",
            "                                                                 \n",
            " activation_5 (Activation)   (None, 2048)              0         \n",
            "                                                                 \n",
            " dropout (Dropout)           (None, 2048)              0         \n",
            "                                                                 \n",
            " batch_normalization_5 (Batc  (None, 2048)             8192      \n",
            " hNormalization)                                                 \n",
            "                                                                 \n",
            " dense_1 (Dense)             (None, 2048)              4196352   \n",
            "                                                                 \n",
            " activation_6 (Activation)   (None, 2048)              0         \n",
            "                                                                 \n",
            " dropout_1 (Dropout)         (None, 2048)              0         \n",
            "                                                                 \n",
            " batch_normalization_6 (Batc  (None, 2048)             8192      \n",
            " hNormalization)                                                 \n",
            "                                                                 \n",
            " dense_2 (Dense)             (None, 800)               1639200   \n",
            "                                                                 \n",
            " activation_7 (Activation)   (None, 800)               0         \n",
            "                                                                 \n",
            " dropout_2 (Dropout)         (None, 800)               0         \n",
            "                                                                 \n",
            " batch_normalization_7 (Batc  (None, 800)              3200      \n",
            " hNormalization)                                                 \n",
            "                                                                 \n",
            " dense_3 (Dense)             (None, 10)                8010      \n",
            "                                                                 \n",
            " activation_8 (Activation)   (None, 10)                0         \n",
            "                                                                 \n",
            "=================================================================\n",
            "Total params: 82,280,170\n",
            "Trainable params: 82,268,970\n",
            "Non-trainable params: 11,200\n",
            "_________________________________________________________________\n"
          ]
        }
      ]
    },
    {
      "cell_type": "code",
      "source": [
        "model.compile(optimizer='rmsprop', loss='categorical_crossentropy', metrics=['accuracy'])"
      ],
      "metadata": {
        "_uuid": "3753eae323daba8daf7994b93e52f047f86cf273",
        "id": "8dxZ1DWc3drA",
        "execution": {
          "iopub.status.busy": "2023-04-15T10:30:55.634692Z",
          "iopub.execute_input": "2023-04-15T10:30:55.635215Z",
          "iopub.status.idle": "2023-04-15T10:30:55.681765Z",
          "shell.execute_reply.started": "2023-04-15T10:30:55.635183Z",
          "shell.execute_reply": "2023-04-15T10:30:55.680698Z"
        },
        "trusted": true
      },
      "execution_count": null,
      "outputs": []
    },
    {
      "cell_type": "code",
      "source": [
        "history = model.fit(x_train, y_train, batch_size=200, validation_data=(x_val,y_val), epochs = 200)"
      ],
      "metadata": {
        "_uuid": "698d81696c7e22079c4c11c7fb43ba0da87517c1",
        "colab": {
          "base_uri": "https://localhost:8080/"
        },
        "id": "hpfGMvTG3drA",
        "outputId": "4c8b1ed4-a015-411b-b1e5-35819907c9f7",
        "execution": {
          "iopub.status.busy": "2023-04-15T10:30:57.630742Z",
          "iopub.execute_input": "2023-04-15T10:30:57.631826Z",
          "iopub.status.idle": "2023-04-15T13:56:23.256660Z",
          "shell.execute_reply.started": "2023-04-15T10:30:57.631784Z",
          "shell.execute_reply": "2023-04-15T13:56:23.255536Z"
        },
        "trusted": true
      },
      "execution_count": null,
      "outputs": [
        {
          "output_type": "stream",
          "name": "stdout",
          "text": [
            "Epoch 1/200\n",
            "267/267 [==============================] - 51s 117ms/step - loss: 0.2163 - accuracy: 0.9387 - val_loss: 3.0532 - val_accuracy: 0.3514\n",
            "Epoch 2/200\n",
            "267/267 [==============================] - 30s 112ms/step - loss: 0.0464 - accuracy: 0.9863 - val_loss: 3.2839 - val_accuracy: 0.5014\n",
            "Epoch 3/200\n",
            "267/267 [==============================] - 31s 115ms/step - loss: 0.0323 - accuracy: 0.9905 - val_loss: 0.7059 - val_accuracy: 0.8338\n",
            "Epoch 4/200\n",
            "267/267 [==============================] - 30s 114ms/step - loss: 0.0258 - accuracy: 0.9922 - val_loss: 0.0585 - val_accuracy: 0.9821\n",
            "Epoch 5/200\n",
            "267/267 [==============================] - 30s 113ms/step - loss: 0.0199 - accuracy: 0.9942 - val_loss: 0.5380 - val_accuracy: 0.8525\n",
            "Epoch 6/200\n",
            "267/267 [==============================] - 30s 114ms/step - loss: 0.0174 - accuracy: 0.9952 - val_loss: 0.0289 - val_accuracy: 0.9917\n",
            "Epoch 7/200\n",
            "267/267 [==============================] - 30s 112ms/step - loss: 0.0149 - accuracy: 0.9955 - val_loss: 0.2584 - val_accuracy: 0.9028\n",
            "Epoch 8/200\n",
            "267/267 [==============================] - 30s 112ms/step - loss: 0.0121 - accuracy: 0.9961 - val_loss: 0.1545 - val_accuracy: 0.9617\n",
            "Epoch 9/200\n",
            "267/267 [==============================] - 30s 113ms/step - loss: 0.0122 - accuracy: 0.9962 - val_loss: 0.0216 - val_accuracy: 0.9949\n",
            "Epoch 10/200\n",
            "267/267 [==============================] - 30s 112ms/step - loss: 0.0095 - accuracy: 0.9971 - val_loss: 0.0419 - val_accuracy: 0.9897\n",
            "Epoch 11/200\n",
            "267/267 [==============================] - 30s 112ms/step - loss: 0.0100 - accuracy: 0.9970 - val_loss: 0.1147 - val_accuracy: 0.9686\n",
            "Epoch 12/200\n",
            "267/267 [==============================] - 30s 113ms/step - loss: 0.0084 - accuracy: 0.9974 - val_loss: 0.0592 - val_accuracy: 0.9855\n",
            "Epoch 13/200\n",
            "267/267 [==============================] - 30s 113ms/step - loss: 0.0083 - accuracy: 0.9977 - val_loss: 0.0572 - val_accuracy: 0.9846\n",
            "Epoch 14/200\n",
            "267/267 [==============================] - 30s 112ms/step - loss: 0.0058 - accuracy: 0.9980 - val_loss: 0.0253 - val_accuracy: 0.9924\n",
            "Epoch 15/200\n",
            "267/267 [==============================] - 30s 113ms/step - loss: 0.0072 - accuracy: 0.9977 - val_loss: 0.1640 - val_accuracy: 0.9610\n",
            "Epoch 16/200\n",
            "267/267 [==============================] - 30s 113ms/step - loss: 0.0069 - accuracy: 0.9979 - val_loss: 0.0307 - val_accuracy: 0.9931\n",
            "Epoch 17/200\n",
            "267/267 [==============================] - 30s 113ms/step - loss: 0.0064 - accuracy: 0.9981 - val_loss: 0.0909 - val_accuracy: 0.9742\n",
            "Epoch 18/200\n",
            "267/267 [==============================] - 30s 113ms/step - loss: 0.0049 - accuracy: 0.9984 - val_loss: 0.1162 - val_accuracy: 0.9789\n",
            "Epoch 19/200\n",
            "267/267 [==============================] - 30s 112ms/step - loss: 0.0052 - accuracy: 0.9985 - val_loss: 0.0586 - val_accuracy: 0.9865\n",
            "Epoch 20/200\n",
            "267/267 [==============================] - 30s 113ms/step - loss: 0.0033 - accuracy: 0.9990 - val_loss: 0.0740 - val_accuracy: 0.9833\n",
            "Epoch 21/200\n",
            "267/267 [==============================] - 30s 113ms/step - loss: 0.0032 - accuracy: 0.9988 - val_loss: 0.0219 - val_accuracy: 0.9961\n",
            "Epoch 22/200\n",
            "267/267 [==============================] - 30s 112ms/step - loss: 0.0032 - accuracy: 0.9990 - val_loss: 0.2555 - val_accuracy: 0.9357\n",
            "Epoch 23/200\n",
            "267/267 [==============================] - 30s 113ms/step - loss: 0.0029 - accuracy: 0.9990 - val_loss: 0.0541 - val_accuracy: 0.9875\n",
            "Epoch 24/200\n",
            "267/267 [==============================] - 30s 113ms/step - loss: 0.0043 - accuracy: 0.9987 - val_loss: 0.0333 - val_accuracy: 0.9941\n",
            "Epoch 25/200\n",
            "267/267 [==============================] - 30s 112ms/step - loss: 0.0036 - accuracy: 0.9989 - val_loss: 0.0384 - val_accuracy: 0.9919\n",
            "Epoch 26/200\n",
            "267/267 [==============================] - 30s 112ms/step - loss: 0.0040 - accuracy: 0.9988 - val_loss: 0.4255 - val_accuracy: 0.9345\n",
            "Epoch 27/200\n",
            "267/267 [==============================] - 30s 112ms/step - loss: 0.0048 - accuracy: 0.9985 - val_loss: 0.1483 - val_accuracy: 0.9522\n",
            "Epoch 28/200\n",
            "267/267 [==============================] - 30s 113ms/step - loss: 0.0031 - accuracy: 0.9989 - val_loss: 0.0237 - val_accuracy: 0.9948\n",
            "Epoch 29/200\n",
            "267/267 [==============================] - 30s 113ms/step - loss: 0.0027 - accuracy: 0.9992 - val_loss: 0.1066 - val_accuracy: 0.9796\n",
            "Epoch 30/200\n",
            "267/267 [==============================] - 30s 113ms/step - loss: 0.0041 - accuracy: 0.9988 - val_loss: 0.0399 - val_accuracy: 0.9917\n",
            "Epoch 31/200\n",
            "267/267 [==============================] - 30s 112ms/step - loss: 0.0035 - accuracy: 0.9989 - val_loss: 0.0622 - val_accuracy: 0.9894\n",
            "Epoch 32/200\n",
            "267/267 [==============================] - 30s 112ms/step - loss: 0.0035 - accuracy: 0.9989 - val_loss: 5.2375 - val_accuracy: 0.6991\n",
            "Epoch 33/200\n",
            "267/267 [==============================] - 30s 113ms/step - loss: 0.0029 - accuracy: 0.9990 - val_loss: 1.0848 - val_accuracy: 0.8810\n",
            "Epoch 34/200\n",
            "267/267 [==============================] - 30s 113ms/step - loss: 0.0027 - accuracy: 0.9992 - val_loss: 0.0232 - val_accuracy: 0.9954\n",
            "Epoch 35/200\n",
            "267/267 [==============================] - 30s 113ms/step - loss: 0.0019 - accuracy: 0.9994 - val_loss: 0.4029 - val_accuracy: 0.9273\n",
            "Epoch 36/200\n",
            "267/267 [==============================] - 30s 113ms/step - loss: 0.0017 - accuracy: 0.9995 - val_loss: 0.0269 - val_accuracy: 0.9949\n",
            "Epoch 37/200\n",
            "267/267 [==============================] - 30s 114ms/step - loss: 0.0014 - accuracy: 0.9996 - val_loss: 0.0240 - val_accuracy: 0.9961\n",
            "Epoch 38/200\n",
            "267/267 [==============================] - 30s 112ms/step - loss: 0.0015 - accuracy: 0.9994 - val_loss: 0.0417 - val_accuracy: 0.9909\n",
            "Epoch 39/200\n",
            "267/267 [==============================] - 30s 112ms/step - loss: 0.0019 - accuracy: 0.9995 - val_loss: 0.0429 - val_accuracy: 0.9916\n",
            "Epoch 40/200\n",
            "267/267 [==============================] - 30s 113ms/step - loss: 0.0010 - accuracy: 0.9997 - val_loss: 0.0644 - val_accuracy: 0.9890\n",
            "Epoch 41/200\n",
            "267/267 [==============================] - 30s 112ms/step - loss: 0.0016 - accuracy: 0.9995 - val_loss: 0.0248 - val_accuracy: 0.9959\n",
            "Epoch 42/200\n",
            "267/267 [==============================] - 30s 113ms/step - loss: 0.0021 - accuracy: 0.9994 - val_loss: 0.0315 - val_accuracy: 0.9938\n",
            "Epoch 43/200\n",
            "267/267 [==============================] - 30s 113ms/step - loss: 0.0027 - accuracy: 0.9993 - val_loss: 0.7445 - val_accuracy: 0.9006\n",
            "Epoch 44/200\n",
            "267/267 [==============================] - 30s 113ms/step - loss: 0.0015 - accuracy: 0.9994 - val_loss: 0.0281 - val_accuracy: 0.9954\n",
            "Epoch 45/200\n",
            "267/267 [==============================] - 30s 113ms/step - loss: 0.0019 - accuracy: 0.9993 - val_loss: 0.0759 - val_accuracy: 0.9865\n",
            "Epoch 46/200\n",
            "267/267 [==============================] - 30s 113ms/step - loss: 0.0014 - accuracy: 0.9997 - val_loss: 0.0287 - val_accuracy: 0.9956\n",
            "Epoch 47/200\n",
            "267/267 [==============================] - 30s 112ms/step - loss: 0.0018 - accuracy: 0.9996 - val_loss: 0.0241 - val_accuracy: 0.9958\n",
            "Epoch 48/200\n",
            "267/267 [==============================] - 30s 112ms/step - loss: 0.0014 - accuracy: 0.9996 - val_loss: 0.0324 - val_accuracy: 0.9959\n",
            "Epoch 49/200\n",
            "267/267 [==============================] - 30s 113ms/step - loss: 0.0021 - accuracy: 0.9993 - val_loss: 0.0322 - val_accuracy: 0.9958\n",
            "Epoch 50/200\n",
            "267/267 [==============================] - 30s 113ms/step - loss: 0.0024 - accuracy: 0.9993 - val_loss: 0.0527 - val_accuracy: 0.9938\n",
            "Epoch 51/200\n",
            "267/267 [==============================] - 30s 112ms/step - loss: 0.0014 - accuracy: 0.9996 - val_loss: 0.1211 - val_accuracy: 0.9710\n",
            "Epoch 52/200\n",
            "267/267 [==============================] - 30s 112ms/step - loss: 0.0012 - accuracy: 0.9997 - val_loss: 0.0583 - val_accuracy: 0.9868\n",
            "Epoch 53/200\n",
            "267/267 [==============================] - 30s 113ms/step - loss: 0.0018 - accuracy: 0.9995 - val_loss: 0.1051 - val_accuracy: 0.9762\n",
            "Epoch 54/200\n",
            "267/267 [==============================] - 30s 112ms/step - loss: 0.0012 - accuracy: 0.9997 - val_loss: 0.0259 - val_accuracy: 0.9959\n",
            "Epoch 55/200\n",
            "267/267 [==============================] - 30s 112ms/step - loss: 0.0016 - accuracy: 0.9995 - val_loss: 0.0422 - val_accuracy: 0.9902\n",
            "Epoch 56/200\n",
            "267/267 [==============================] - 30s 113ms/step - loss: 0.0012 - accuracy: 0.9996 - val_loss: 0.1108 - val_accuracy: 0.9695\n",
            "Epoch 57/200\n",
            "267/267 [==============================] - 30s 113ms/step - loss: 5.2189e-04 - accuracy: 0.9998 - val_loss: 0.0267 - val_accuracy: 0.9965\n",
            "Epoch 58/200\n",
            "267/267 [==============================] - 30s 113ms/step - loss: 7.2440e-04 - accuracy: 0.9998 - val_loss: 3.8146 - val_accuracy: 0.7377\n",
            "Epoch 59/200\n",
            "267/267 [==============================] - 30s 112ms/step - loss: 2.8630e-04 - accuracy: 0.9999 - val_loss: 0.4729 - val_accuracy: 0.9350\n",
            "Epoch 60/200\n",
            "267/267 [==============================] - 30s 113ms/step - loss: 8.1503e-04 - accuracy: 0.9998 - val_loss: 0.0311 - val_accuracy: 0.9953\n",
            "Epoch 61/200\n",
            "267/267 [==============================] - 30s 112ms/step - loss: 3.7459e-04 - accuracy: 0.9998 - val_loss: 1.9978 - val_accuracy: 0.8226\n",
            "Epoch 62/200\n",
            "267/267 [==============================] - 30s 112ms/step - loss: 0.0014 - accuracy: 0.9997 - val_loss: 0.0315 - val_accuracy: 0.9959\n",
            "Epoch 63/200\n",
            "267/267 [==============================] - 30s 113ms/step - loss: 8.4686e-04 - accuracy: 0.9998 - val_loss: 1.2936 - val_accuracy: 0.8846\n",
            "Epoch 64/200\n",
            "267/267 [==============================] - 30s 112ms/step - loss: 0.0012 - accuracy: 0.9997 - val_loss: 0.0354 - val_accuracy: 0.9953\n",
            "Epoch 65/200\n",
            "267/267 [==============================] - 30s 113ms/step - loss: 8.8713e-04 - accuracy: 0.9997 - val_loss: 0.1742 - val_accuracy: 0.9600\n",
            "Epoch 66/200\n",
            "267/267 [==============================] - 30s 112ms/step - loss: 0.0011 - accuracy: 0.9998 - val_loss: 1.3081 - val_accuracy: 0.8626\n",
            "Epoch 67/200\n",
            "267/267 [==============================] - 30s 112ms/step - loss: 9.0541e-04 - accuracy: 0.9998 - val_loss: 0.0260 - val_accuracy: 0.9958\n",
            "Epoch 68/200\n",
            "267/267 [==============================] - 30s 113ms/step - loss: 0.0016 - accuracy: 0.9997 - val_loss: 0.1132 - val_accuracy: 0.9870\n",
            "Epoch 69/200\n",
            "267/267 [==============================] - 30s 112ms/step - loss: 3.6611e-04 - accuracy: 0.9998 - val_loss: 0.0298 - val_accuracy: 0.9961\n",
            "Epoch 70/200\n",
            "267/267 [==============================] - 30s 113ms/step - loss: 7.3113e-04 - accuracy: 0.9998 - val_loss: 0.8385 - val_accuracy: 0.8970\n",
            "Epoch 71/200\n",
            "267/267 [==============================] - 30s 112ms/step - loss: 9.0101e-04 - accuracy: 0.9997 - val_loss: 0.0288 - val_accuracy: 0.9958\n",
            "Epoch 72/200\n",
            "267/267 [==============================] - 30s 112ms/step - loss: 3.8363e-04 - accuracy: 0.9999 - val_loss: 0.0526 - val_accuracy: 0.9927\n",
            "Epoch 73/200\n",
            "267/267 [==============================] - 30s 112ms/step - loss: 1.1501e-04 - accuracy: 1.0000 - val_loss: 0.0309 - val_accuracy: 0.9966\n",
            "Epoch 74/200\n",
            "267/267 [==============================] - 30s 113ms/step - loss: 1.7486e-04 - accuracy: 0.9999 - val_loss: 0.0283 - val_accuracy: 0.9963\n",
            "Epoch 75/200\n",
            "267/267 [==============================] - 30s 112ms/step - loss: 6.0586e-05 - accuracy: 1.0000 - val_loss: 0.0298 - val_accuracy: 0.9963\n",
            "Epoch 76/200\n",
            "267/267 [==============================] - 30s 113ms/step - loss: 6.0924e-04 - accuracy: 0.9998 - val_loss: 0.0292 - val_accuracy: 0.9959\n",
            "Epoch 77/200\n",
            "267/267 [==============================] - 30s 112ms/step - loss: 9.4261e-04 - accuracy: 0.9998 - val_loss: 0.0323 - val_accuracy: 0.9951\n",
            "Epoch 78/200\n",
            "267/267 [==============================] - 30s 113ms/step - loss: 7.9834e-04 - accuracy: 0.9998 - val_loss: 0.5565 - val_accuracy: 0.9251\n",
            "Epoch 79/200\n",
            "267/267 [==============================] - 30s 112ms/step - loss: 0.0013 - accuracy: 0.9997 - val_loss: 0.0270 - val_accuracy: 0.9951\n",
            "Epoch 80/200\n",
            "267/267 [==============================] - 30s 113ms/step - loss: 9.2281e-04 - accuracy: 0.9997 - val_loss: 0.1091 - val_accuracy: 0.9701\n",
            "Epoch 81/200\n",
            "267/267 [==============================] - 30s 112ms/step - loss: 8.2642e-04 - accuracy: 0.9998 - val_loss: 0.0378 - val_accuracy: 0.9951\n",
            "Epoch 82/200\n",
            "267/267 [==============================] - 30s 112ms/step - loss: 2.9804e-04 - accuracy: 0.9999 - val_loss: 0.0430 - val_accuracy: 0.9938\n",
            "Epoch 83/200\n",
            "267/267 [==============================] - 30s 113ms/step - loss: 0.0011 - accuracy: 0.9997 - val_loss: 0.0840 - val_accuracy: 0.9878\n",
            "Epoch 84/200\n",
            "267/267 [==============================] - 30s 112ms/step - loss: 8.2518e-04 - accuracy: 0.9997 - val_loss: 0.0591 - val_accuracy: 0.9932\n",
            "Epoch 85/200\n",
            "267/267 [==============================] - 30s 113ms/step - loss: 5.4397e-04 - accuracy: 0.9998 - val_loss: 0.0264 - val_accuracy: 0.9963\n",
            "Epoch 86/200\n",
            "267/267 [==============================] - 30s 112ms/step - loss: 7.6600e-04 - accuracy: 0.9998 - val_loss: 0.0339 - val_accuracy: 0.9958\n",
            "Epoch 87/200\n",
            "267/267 [==============================] - 30s 112ms/step - loss: 5.3075e-04 - accuracy: 0.9999 - val_loss: 0.0233 - val_accuracy: 0.9966\n",
            "Epoch 88/200\n",
            "267/267 [==============================] - 30s 112ms/step - loss: 9.7862e-05 - accuracy: 1.0000 - val_loss: 0.0326 - val_accuracy: 0.9958\n",
            "Epoch 89/200\n",
            "267/267 [==============================] - 30s 112ms/step - loss: 3.0770e-05 - accuracy: 1.0000 - val_loss: 0.0371 - val_accuracy: 0.9961\n",
            "Epoch 90/200\n",
            "267/267 [==============================] - 30s 113ms/step - loss: 2.2114e-04 - accuracy: 0.9999 - val_loss: 0.0593 - val_accuracy: 0.9862\n",
            "Epoch 91/200\n",
            "267/267 [==============================] - 30s 114ms/step - loss: 2.7491e-04 - accuracy: 0.9999 - val_loss: 0.0381 - val_accuracy: 0.9954\n",
            "Epoch 92/200\n",
            "267/267 [==============================] - 30s 112ms/step - loss: 3.7481e-04 - accuracy: 0.9999 - val_loss: 0.0446 - val_accuracy: 0.9951\n",
            "Epoch 93/200\n",
            "267/267 [==============================] - 30s 113ms/step - loss: 9.3261e-04 - accuracy: 0.9998 - val_loss: 0.0330 - val_accuracy: 0.9959\n",
            "Epoch 94/200\n",
            "267/267 [==============================] - 30s 113ms/step - loss: 2.9456e-04 - accuracy: 0.9999 - val_loss: 1.2624 - val_accuracy: 0.8837\n",
            "Epoch 95/200\n",
            "267/267 [==============================] - 30s 114ms/step - loss: 4.9181e-04 - accuracy: 0.9998 - val_loss: 0.0466 - val_accuracy: 0.9914\n",
            "Epoch 96/200\n",
            "267/267 [==============================] - 30s 113ms/step - loss: 3.9534e-04 - accuracy: 0.9998 - val_loss: 0.0314 - val_accuracy: 0.9946\n",
            "Epoch 97/200\n",
            "267/267 [==============================] - 30s 114ms/step - loss: 6.2899e-04 - accuracy: 0.9998 - val_loss: 0.6756 - val_accuracy: 0.8981\n",
            "Epoch 98/200\n",
            "267/267 [==============================] - 30s 114ms/step - loss: 2.0816e-04 - accuracy: 1.0000 - val_loss: 0.0221 - val_accuracy: 0.9965\n",
            "Epoch 99/200\n",
            "267/267 [==============================] - 30s 113ms/step - loss: 2.5304e-04 - accuracy: 0.9999 - val_loss: 0.0410 - val_accuracy: 0.9939\n",
            "Epoch 100/200\n",
            "267/267 [==============================] - 30s 112ms/step - loss: 6.9035e-04 - accuracy: 0.9998 - val_loss: 0.0326 - val_accuracy: 0.9963\n",
            "Epoch 101/200\n",
            "267/267 [==============================] - 30s 113ms/step - loss: 4.5763e-04 - accuracy: 0.9999 - val_loss: 0.0438 - val_accuracy: 0.9936\n",
            "Epoch 102/200\n",
            "267/267 [==============================] - 30s 114ms/step - loss: 5.5075e-04 - accuracy: 0.9998 - val_loss: 0.0266 - val_accuracy: 0.9961\n",
            "Epoch 103/200\n",
            "267/267 [==============================] - 30s 113ms/step - loss: 2.3750e-04 - accuracy: 0.9999 - val_loss: 0.0912 - val_accuracy: 0.9792\n",
            "Epoch 104/200\n",
            "267/267 [==============================] - 30s 112ms/step - loss: 3.8822e-04 - accuracy: 0.9998 - val_loss: 0.0363 - val_accuracy: 0.9953\n",
            "Epoch 105/200\n",
            "267/267 [==============================] - 30s 114ms/step - loss: 2.5481e-04 - accuracy: 0.9999 - val_loss: 0.0295 - val_accuracy: 0.9961\n",
            "Epoch 106/200\n",
            "267/267 [==============================] - 30s 113ms/step - loss: 0.0014 - accuracy: 0.9997 - val_loss: 2.5642 - val_accuracy: 0.8834\n",
            "Epoch 107/200\n",
            "267/267 [==============================] - 30s 113ms/step - loss: 8.0528e-04 - accuracy: 0.9998 - val_loss: 1.5429 - val_accuracy: 0.8896\n",
            "Epoch 108/200\n",
            "267/267 [==============================] - 30s 112ms/step - loss: 9.3583e-04 - accuracy: 0.9998 - val_loss: 0.0384 - val_accuracy: 0.9959\n",
            "Epoch 109/200\n",
            "267/267 [==============================] - 30s 112ms/step - loss: 9.9416e-04 - accuracy: 0.9998 - val_loss: 0.0296 - val_accuracy: 0.9966\n",
            "Epoch 110/200\n",
            "267/267 [==============================] - 30s 113ms/step - loss: 3.1330e-04 - accuracy: 0.9998 - val_loss: 0.1135 - val_accuracy: 0.9889\n",
            "Epoch 111/200\n",
            "267/267 [==============================] - 30s 113ms/step - loss: 5.8789e-04 - accuracy: 0.9998 - val_loss: 0.0357 - val_accuracy: 0.9963\n",
            "Epoch 112/200\n",
            "267/267 [==============================] - 30s 113ms/step - loss: 4.3110e-04 - accuracy: 0.9998 - val_loss: 0.0372 - val_accuracy: 0.9958\n",
            "Epoch 113/200\n",
            "267/267 [==============================] - 30s 113ms/step - loss: 8.8799e-04 - accuracy: 0.9999 - val_loss: 0.0282 - val_accuracy: 0.9965\n",
            "Epoch 114/200\n",
            "267/267 [==============================] - 30s 113ms/step - loss: 1.2665e-04 - accuracy: 1.0000 - val_loss: 0.0569 - val_accuracy: 0.9951\n",
            "Epoch 115/200\n",
            "267/267 [==============================] - 30s 113ms/step - loss: 1.5726e-04 - accuracy: 1.0000 - val_loss: 0.0321 - val_accuracy: 0.9968\n",
            "Epoch 116/200\n",
            "267/267 [==============================] - 30s 114ms/step - loss: 4.9168e-04 - accuracy: 0.9999 - val_loss: 0.0353 - val_accuracy: 0.9965\n",
            "Epoch 117/200\n",
            "267/267 [==============================] - 30s 114ms/step - loss: 4.6489e-04 - accuracy: 0.9999 - val_loss: 0.0267 - val_accuracy: 0.9970\n",
            "Epoch 118/200\n",
            "267/267 [==============================] - 30s 114ms/step - loss: 8.3256e-04 - accuracy: 0.9998 - val_loss: 0.0389 - val_accuracy: 0.9943\n",
            "Epoch 119/200\n",
            "267/267 [==============================] - 30s 113ms/step - loss: 7.1782e-04 - accuracy: 0.9998 - val_loss: 0.0405 - val_accuracy: 0.9938\n",
            "Epoch 120/200\n",
            "267/267 [==============================] - 30s 114ms/step - loss: 8.5358e-04 - accuracy: 0.9997 - val_loss: 0.0233 - val_accuracy: 0.9966\n",
            "Epoch 121/200\n",
            "267/267 [==============================] - 30s 114ms/step - loss: 2.9966e-04 - accuracy: 0.9998 - val_loss: 0.0228 - val_accuracy: 0.9968\n",
            "Epoch 122/200\n",
            "267/267 [==============================] - 30s 112ms/step - loss: 2.5682e-04 - accuracy: 0.9999 - val_loss: 0.0276 - val_accuracy: 0.9968\n",
            "Epoch 123/200\n",
            "267/267 [==============================] - 30s 113ms/step - loss: 2.6908e-04 - accuracy: 0.9999 - val_loss: 0.0302 - val_accuracy: 0.9963\n",
            "Epoch 124/200\n",
            "267/267 [==============================] - 30s 113ms/step - loss: 3.1114e-04 - accuracy: 0.9999 - val_loss: 0.0352 - val_accuracy: 0.9958\n",
            "Epoch 125/200\n",
            "267/267 [==============================] - 30s 114ms/step - loss: 3.1748e-04 - accuracy: 0.9999 - val_loss: 0.0258 - val_accuracy: 0.9966\n",
            "Epoch 126/200\n",
            "267/267 [==============================] - 30s 114ms/step - loss: 2.3606e-04 - accuracy: 0.9999 - val_loss: 0.0346 - val_accuracy: 0.9949\n",
            "Epoch 127/200\n",
            "267/267 [==============================] - 30s 113ms/step - loss: 3.5158e-04 - accuracy: 0.9999 - val_loss: 2.5925 - val_accuracy: 0.8766\n",
            "Epoch 128/200\n",
            "267/267 [==============================] - 30s 113ms/step - loss: 2.1320e-04 - accuracy: 0.9999 - val_loss: 0.0275 - val_accuracy: 0.9965\n",
            "Epoch 129/200\n",
            "267/267 [==============================] - 30s 112ms/step - loss: 7.5672e-05 - accuracy: 1.0000 - val_loss: 0.0316 - val_accuracy: 0.9965\n",
            "Epoch 130/200\n",
            "267/267 [==============================] - 30s 112ms/step - loss: 3.2843e-05 - accuracy: 1.0000 - val_loss: 0.0295 - val_accuracy: 0.9966\n",
            "Epoch 131/200\n",
            "267/267 [==============================] - 30s 113ms/step - loss: 1.7609e-05 - accuracy: 1.0000 - val_loss: 0.0211 - val_accuracy: 0.9970\n",
            "Epoch 132/200\n",
            "267/267 [==============================] - 30s 113ms/step - loss: 4.8407e-05 - accuracy: 1.0000 - val_loss: 0.0333 - val_accuracy: 0.9965\n",
            "Epoch 133/200\n",
            "267/267 [==============================] - 30s 113ms/step - loss: 5.6162e-05 - accuracy: 1.0000 - val_loss: 0.0265 - val_accuracy: 0.9970\n",
            "Epoch 134/200\n",
            "267/267 [==============================] - 30s 113ms/step - loss: 4.2169e-04 - accuracy: 0.9999 - val_loss: 0.0341 - val_accuracy: 0.9961\n",
            "Epoch 135/200\n",
            "267/267 [==============================] - 30s 113ms/step - loss: 6.8323e-05 - accuracy: 1.0000 - val_loss: 0.0311 - val_accuracy: 0.9963\n",
            "Epoch 136/200\n",
            "267/267 [==============================] - 30s 112ms/step - loss: 5.3674e-04 - accuracy: 0.9998 - val_loss: 0.0598 - val_accuracy: 0.9943\n",
            "Epoch 137/200\n",
            "267/267 [==============================] - 30s 114ms/step - loss: 7.8327e-04 - accuracy: 0.9997 - val_loss: 0.0330 - val_accuracy: 0.9966\n",
            "Epoch 138/200\n",
            "267/267 [==============================] - 30s 112ms/step - loss: 1.8949e-04 - accuracy: 0.9999 - val_loss: 0.0343 - val_accuracy: 0.9963\n",
            "Epoch 139/200\n",
            "267/267 [==============================] - 30s 113ms/step - loss: 6.0431e-05 - accuracy: 1.0000 - val_loss: 0.0324 - val_accuracy: 0.9963\n",
            "Epoch 140/200\n",
            "267/267 [==============================] - 30s 112ms/step - loss: 3.3650e-05 - accuracy: 1.0000 - val_loss: 0.0384 - val_accuracy: 0.9968\n",
            "Epoch 141/200\n",
            "267/267 [==============================] - 30s 112ms/step - loss: 1.5531e-05 - accuracy: 1.0000 - val_loss: 0.0312 - val_accuracy: 0.9970\n",
            "Epoch 142/200\n",
            "267/267 [==============================] - 30s 112ms/step - loss: 1.6473e-04 - accuracy: 1.0000 - val_loss: 0.0346 - val_accuracy: 0.9961\n",
            "Epoch 143/200\n",
            "267/267 [==============================] - 30s 113ms/step - loss: 2.9499e-05 - accuracy: 1.0000 - val_loss: 0.0275 - val_accuracy: 0.9970\n",
            "Epoch 144/200\n",
            "267/267 [==============================] - 30s 113ms/step - loss: 1.8661e-04 - accuracy: 0.9999 - val_loss: 0.0336 - val_accuracy: 0.9954\n",
            "Epoch 145/200\n",
            "267/267 [==============================] - 30s 112ms/step - loss: 5.1807e-04 - accuracy: 0.9999 - val_loss: 0.4181 - val_accuracy: 0.9300\n",
            "Epoch 146/200\n",
            "267/267 [==============================] - 30s 113ms/step - loss: 3.9540e-05 - accuracy: 1.0000 - val_loss: 0.0300 - val_accuracy: 0.9954\n",
            "Epoch 147/200\n",
            "267/267 [==============================] - 30s 112ms/step - loss: 3.7641e-04 - accuracy: 0.9999 - val_loss: 0.0484 - val_accuracy: 0.9954\n",
            "Epoch 148/200\n",
            "267/267 [==============================] - 30s 112ms/step - loss: 7.6478e-04 - accuracy: 0.9998 - val_loss: 1.3104 - val_accuracy: 0.8619\n",
            "Epoch 149/200\n",
            "267/267 [==============================] - 30s 113ms/step - loss: 5.1322e-04 - accuracy: 0.9998 - val_loss: 0.0229 - val_accuracy: 0.9959\n",
            "Epoch 150/200\n",
            "267/267 [==============================] - 30s 112ms/step - loss: 1.6493e-04 - accuracy: 0.9999 - val_loss: 0.1179 - val_accuracy: 0.9796\n",
            "Epoch 151/200\n",
            "267/267 [==============================] - 30s 112ms/step - loss: 3.1607e-04 - accuracy: 0.9999 - val_loss: 0.0513 - val_accuracy: 0.9949\n",
            "Epoch 152/200\n",
            "267/267 [==============================] - 30s 112ms/step - loss: 1.3226e-04 - accuracy: 1.0000 - val_loss: 0.0445 - val_accuracy: 0.9931\n",
            "Epoch 153/200\n",
            "267/267 [==============================] - 30s 112ms/step - loss: 5.9923e-05 - accuracy: 1.0000 - val_loss: 0.0253 - val_accuracy: 0.9963\n",
            "Epoch 154/200\n",
            "267/267 [==============================] - 30s 112ms/step - loss: 1.0899e-04 - accuracy: 1.0000 - val_loss: 0.0282 - val_accuracy: 0.9959\n",
            "Epoch 155/200\n",
            "267/267 [==============================] - 30s 112ms/step - loss: 6.9937e-04 - accuracy: 0.9999 - val_loss: 0.0313 - val_accuracy: 0.9956\n",
            "Epoch 156/200\n",
            "267/267 [==============================] - 30s 113ms/step - loss: 3.6751e-04 - accuracy: 0.9999 - val_loss: 0.0533 - val_accuracy: 0.9934\n",
            "Epoch 157/200\n",
            "267/267 [==============================] - 30s 113ms/step - loss: 4.0610e-04 - accuracy: 0.9999 - val_loss: 0.0257 - val_accuracy: 0.9948\n",
            "Epoch 158/200\n",
            "267/267 [==============================] - 30s 112ms/step - loss: 1.9762e-04 - accuracy: 1.0000 - val_loss: 0.0272 - val_accuracy: 0.9966\n",
            "Epoch 159/200\n",
            "267/267 [==============================] - 30s 112ms/step - loss: 2.1748e-04 - accuracy: 0.9999 - val_loss: 0.0347 - val_accuracy: 0.9963\n",
            "Epoch 160/200\n",
            "267/267 [==============================] - 30s 113ms/step - loss: 4.0496e-04 - accuracy: 0.9998 - val_loss: 0.2367 - val_accuracy: 0.9494\n",
            "Epoch 161/200\n",
            "267/267 [==============================] - 30s 113ms/step - loss: 6.7028e-04 - accuracy: 0.9998 - val_loss: 0.0302 - val_accuracy: 0.9963\n",
            "Epoch 162/200\n",
            "267/267 [==============================] - 30s 113ms/step - loss: 4.2755e-05 - accuracy: 1.0000 - val_loss: 0.0451 - val_accuracy: 0.9959\n",
            "Epoch 163/200\n",
            "267/267 [==============================] - 30s 112ms/step - loss: 8.4226e-05 - accuracy: 1.0000 - val_loss: 0.0320 - val_accuracy: 0.9965\n",
            "Epoch 164/200\n",
            "267/267 [==============================] - 30s 113ms/step - loss: 4.0087e-05 - accuracy: 1.0000 - val_loss: 0.0466 - val_accuracy: 0.9961\n",
            "Epoch 165/200\n",
            "267/267 [==============================] - 30s 112ms/step - loss: 7.0463e-05 - accuracy: 1.0000 - val_loss: 0.0351 - val_accuracy: 0.9953\n",
            "Epoch 166/200\n",
            "267/267 [==============================] - 30s 112ms/step - loss: 1.2281e-04 - accuracy: 0.9999 - val_loss: 0.0304 - val_accuracy: 0.9959\n",
            "Epoch 167/200\n",
            "267/267 [==============================] - 30s 113ms/step - loss: 1.2169e-04 - accuracy: 0.9999 - val_loss: 0.0686 - val_accuracy: 0.9921\n",
            "Epoch 168/200\n",
            "267/267 [==============================] - 30s 113ms/step - loss: 2.9357e-04 - accuracy: 0.9999 - val_loss: 0.0320 - val_accuracy: 0.9965\n",
            "Epoch 169/200\n",
            "267/267 [==============================] - 30s 113ms/step - loss: 5.2553e-05 - accuracy: 1.0000 - val_loss: 0.0343 - val_accuracy: 0.9965\n",
            "Epoch 170/200\n",
            "267/267 [==============================] - 30s 113ms/step - loss: 4.8556e-05 - accuracy: 1.0000 - val_loss: 0.0334 - val_accuracy: 0.9958\n",
            "Epoch 171/200\n",
            "267/267 [==============================] - 30s 112ms/step - loss: 2.8731e-05 - accuracy: 1.0000 - val_loss: 0.0649 - val_accuracy: 0.9949\n",
            "Epoch 172/200\n",
            "267/267 [==============================] - 30s 112ms/step - loss: 1.7959e-04 - accuracy: 0.9999 - val_loss: 0.0578 - val_accuracy: 0.9890\n",
            "Epoch 173/200\n",
            "267/267 [==============================] - 30s 112ms/step - loss: 1.7788e-04 - accuracy: 0.9999 - val_loss: 0.0303 - val_accuracy: 0.9949\n",
            "Epoch 174/200\n",
            "267/267 [==============================] - 30s 113ms/step - loss: 1.2620e-05 - accuracy: 1.0000 - val_loss: 0.0370 - val_accuracy: 0.9959\n",
            "Epoch 175/200\n",
            "267/267 [==============================] - 30s 112ms/step - loss: 4.8826e-05 - accuracy: 1.0000 - val_loss: 0.0398 - val_accuracy: 0.9956\n",
            "Epoch 176/200\n",
            "267/267 [==============================] - 30s 113ms/step - loss: 3.8510e-04 - accuracy: 0.9999 - val_loss: 0.0363 - val_accuracy: 0.9961\n",
            "Epoch 177/200\n",
            "267/267 [==============================] - 30s 113ms/step - loss: 5.4367e-06 - accuracy: 1.0000 - val_loss: 0.0342 - val_accuracy: 0.9965\n",
            "Epoch 178/200\n",
            "267/267 [==============================] - 30s 112ms/step - loss: 1.3059e-05 - accuracy: 1.0000 - val_loss: 0.0357 - val_accuracy: 0.9961\n",
            "Epoch 179/200\n",
            "267/267 [==============================] - 30s 112ms/step - loss: 5.9027e-06 - accuracy: 1.0000 - val_loss: 0.0307 - val_accuracy: 0.9966\n",
            "Epoch 180/200\n",
            "267/267 [==============================] - 30s 113ms/step - loss: 3.0626e-06 - accuracy: 1.0000 - val_loss: 0.0361 - val_accuracy: 0.9963\n",
            "Epoch 181/200\n",
            "267/267 [==============================] - 30s 114ms/step - loss: 1.0741e-05 - accuracy: 1.0000 - val_loss: 0.0381 - val_accuracy: 0.9956\n",
            "Epoch 182/200\n",
            "267/267 [==============================] - 30s 112ms/step - loss: 1.1033e-05 - accuracy: 1.0000 - val_loss: 0.0323 - val_accuracy: 0.9965\n",
            "Epoch 183/200\n",
            "267/267 [==============================] - 30s 112ms/step - loss: 2.2393e-05 - accuracy: 1.0000 - val_loss: 0.0278 - val_accuracy: 0.9970\n",
            "Epoch 184/200\n",
            "267/267 [==============================] - 30s 112ms/step - loss: 1.7153e-05 - accuracy: 1.0000 - val_loss: 0.0400 - val_accuracy: 0.9961\n",
            "Epoch 185/200\n",
            "267/267 [==============================] - 30s 112ms/step - loss: 4.4604e-06 - accuracy: 1.0000 - val_loss: 0.0420 - val_accuracy: 0.9931\n",
            "Epoch 186/200\n",
            "267/267 [==============================] - 30s 113ms/step - loss: 3.5493e-04 - accuracy: 0.9999 - val_loss: 0.0324 - val_accuracy: 0.9965\n",
            "Epoch 187/200\n",
            "267/267 [==============================] - 30s 112ms/step - loss: 3.1313e-05 - accuracy: 1.0000 - val_loss: 0.0336 - val_accuracy: 0.9965\n",
            "Epoch 188/200\n",
            "267/267 [==============================] - 30s 112ms/step - loss: 3.1172e-05 - accuracy: 1.0000 - val_loss: 0.0388 - val_accuracy: 0.9949\n",
            "Epoch 189/200\n",
            "267/267 [==============================] - 30s 112ms/step - loss: 1.9250e-05 - accuracy: 1.0000 - val_loss: 0.0353 - val_accuracy: 0.9959\n",
            "Epoch 190/200\n",
            "267/267 [==============================] - 30s 113ms/step - loss: 3.2361e-04 - accuracy: 1.0000 - val_loss: 0.0376 - val_accuracy: 0.9968\n",
            "Epoch 191/200\n",
            "267/267 [==============================] - 30s 113ms/step - loss: 1.5311e-05 - accuracy: 1.0000 - val_loss: 0.0353 - val_accuracy: 0.9965\n",
            "Epoch 192/200\n",
            "267/267 [==============================] - 30s 112ms/step - loss: 3.3755e-05 - accuracy: 1.0000 - val_loss: 0.0321 - val_accuracy: 0.9968\n",
            "Epoch 193/200\n",
            "267/267 [==============================] - 30s 112ms/step - loss: 1.0018e-05 - accuracy: 1.0000 - val_loss: 0.0326 - val_accuracy: 0.9966\n",
            "Epoch 194/200\n",
            "267/267 [==============================] - 30s 112ms/step - loss: 6.1846e-06 - accuracy: 1.0000 - val_loss: 0.0339 - val_accuracy: 0.9968\n",
            "Epoch 195/200\n",
            "267/267 [==============================] - 30s 112ms/step - loss: 3.4093e-04 - accuracy: 0.9999 - val_loss: 0.0375 - val_accuracy: 0.9959\n",
            "Epoch 196/200\n",
            "267/267 [==============================] - 30s 112ms/step - loss: 6.2021e-04 - accuracy: 0.9998 - val_loss: 0.2424 - val_accuracy: 0.9473\n",
            "Epoch 197/200\n",
            "267/267 [==============================] - 30s 112ms/step - loss: 1.6286e-04 - accuracy: 0.9999 - val_loss: 0.0491 - val_accuracy: 0.9951\n",
            "Epoch 198/200\n",
            "267/267 [==============================] - 30s 113ms/step - loss: 8.6716e-05 - accuracy: 1.0000 - val_loss: 0.0331 - val_accuracy: 0.9963\n",
            "Epoch 199/200\n",
            "267/267 [==============================] - 30s 114ms/step - loss: 7.2235e-05 - accuracy: 1.0000 - val_loss: 0.0279 - val_accuracy: 0.9959\n",
            "Epoch 200/200\n",
            "267/267 [==============================] - 30s 113ms/step - loss: 3.1489e-05 - accuracy: 1.0000 - val_loss: 0.0535 - val_accuracy: 0.9953\n"
          ]
        }
      ]
    },
    {
      "cell_type": "code",
      "source": [
        "results = model.predict(x_test)"
      ],
      "metadata": {
        "_uuid": "6815575df2c5dde4cad956bcb2196bf22e32711d",
        "id": "7EVfGnYN3drB",
        "execution": {
          "iopub.status.busy": "2023-04-15T14:23:02.091251Z",
          "iopub.execute_input": "2023-04-15T14:23:02.091659Z",
          "iopub.status.idle": "2023-04-15T14:23:12.694750Z",
          "shell.execute_reply.started": "2023-04-15T14:23:02.091622Z",
          "shell.execute_reply": "2023-04-15T14:23:12.693544Z"
        },
        "trusted": true,
        "outputId": "d75f4c79-0cf4-4432-b278-05ce7daeeab5",
        "colab": {
          "base_uri": "https://localhost:8080/"
        }
      },
      "execution_count": null,
      "outputs": [
        {
          "output_type": "stream",
          "name": "stdout",
          "text": [
            "1/1 [==============================] - 0s 308ms/step\n"
          ]
        }
      ]
    },
    {
      "cell_type": "code",
      "source": [
        "print(model.evaluate(x_val, y_val))"
      ],
      "metadata": {
        "id": "fcvOQj6DAjcq",
        "execution": {
          "iopub.status.busy": "2023-04-15T14:23:12.697079Z",
          "iopub.execute_input": "2023-04-15T14:23:12.697554Z",
          "iopub.status.idle": "2023-04-15T14:23:18.024316Z",
          "shell.execute_reply.started": "2023-04-15T14:23:12.697491Z",
          "shell.execute_reply": "2023-04-15T14:23:18.022969Z"
        },
        "trusted": true,
        "outputId": "865a247f-9821-4580-ff22-0533826923b7",
        "colab": {
          "base_uri": "https://localhost:8080/"
        }
      },
      "execution_count": null,
      "outputs": [
        {
          "output_type": "stream",
          "name": "stdout",
          "text": [
            "186/186 [==============================] - 2s 8ms/step - loss: 0.0535 - accuracy: 0.9953\n",
            "[0.05346652865409851, 0.9952742457389832]\n"
          ]
        }
      ]
    },
    {
      "cell_type": "code",
      "source": [
        "print(model.evaluate(x_train, y_train))"
      ],
      "metadata": {
        "id": "4nXhTOaOAmGW",
        "execution": {
          "iopub.status.busy": "2023-04-15T14:23:18.026476Z",
          "iopub.execute_input": "2023-04-15T14:23:18.026957Z",
          "iopub.status.idle": "2023-04-15T14:24:00.638239Z",
          "shell.execute_reply.started": "2023-04-15T14:23:18.026914Z",
          "shell.execute_reply": "2023-04-15T14:24:00.637112Z"
        },
        "trusted": true,
        "outputId": "cf1f59a5-d30f-48d6-d74c-3ffd7034ad5a",
        "colab": {
          "base_uri": "https://localhost:8080/"
        }
      },
      "execution_count": null,
      "outputs": [
        {
          "output_type": "stream",
          "name": "stdout",
          "text": [
            "1667/1667 [==============================] - 13s 8ms/step - loss: 0.0024 - accuracy: 0.9997\n",
            "[0.0023716301657259464, 0.9996623992919922]\n"
          ]
        }
      ]
    },
    {
      "cell_type": "code",
      "source": [
        "model.save(\"Number_AlexNet_Model.h5\")"
      ],
      "metadata": {
        "id": "q5Z07qmjCUst",
        "execution": {
          "iopub.status.busy": "2023-04-15T14:24:00.641500Z",
          "iopub.execute_input": "2023-04-15T14:24:00.641855Z",
          "iopub.status.idle": "2023-04-15T14:24:02.562420Z",
          "shell.execute_reply.started": "2023-04-15T14:24:00.641826Z",
          "shell.execute_reply": "2023-04-15T14:24:02.560879Z"
        },
        "trusted": true
      },
      "execution_count": null,
      "outputs": []
    },
    {
      "cell_type": "code",
      "source": [
        "# !cp modelabdulla.h5 /content/drive/MyDrive/abdulla"
      ],
      "metadata": {
        "id": "bZJV8OBmCekF",
        "execution": {
          "iopub.status.busy": "2023-04-15T14:24:02.564130Z",
          "iopub.execute_input": "2023-04-15T14:24:02.564743Z",
          "iopub.status.idle": "2023-04-15T14:24:02.569728Z",
          "shell.execute_reply.started": "2023-04-15T14:24:02.564701Z",
          "shell.execute_reply": "2023-04-15T14:24:02.568314Z"
        },
        "trusted": true
      },
      "execution_count": null,
      "outputs": []
    },
    {
      "cell_type": "code",
      "source": [
        "# !ls /content/drive/MyDrive/abdulla"
      ],
      "metadata": {
        "id": "WDE8NwOnDmHP",
        "execution": {
          "iopub.status.busy": "2023-04-15T14:24:02.571459Z",
          "iopub.execute_input": "2023-04-15T14:24:02.572383Z",
          "iopub.status.idle": "2023-04-15T14:24:02.591240Z",
          "shell.execute_reply.started": "2023-04-15T14:24:02.572331Z",
          "shell.execute_reply": "2023-04-15T14:24:02.589960Z"
        },
        "trusted": true
      },
      "execution_count": null,
      "outputs": []
    },
    {
      "cell_type": "code",
      "source": [
        "# Plot the loss and accuracy curves for training and validation \n",
        "fig, ax = plt.subplots(2,1)\n",
        "ax[0].plot(history.history['loss'], color='b', label=\"Training loss\")\n",
        "ax[0].plot(history.history['val_loss'], color='r', label=\"validation loss\",axes =ax[0])\n",
        "legend = ax[0].legend(loc='best', shadow=True)\n",
        "\n",
        "ax[1].plot(history.history['accuracy'], color='b', label=\"Training accuracy\")\n",
        "ax[1].plot(history.history['val_accuracy'], color='r',label=\"Validation accuracy\")\n",
        "legend = ax[1].legend(loc='best', shadow=True)"
      ],
      "metadata": {
        "id": "kLJl2UexH_kl",
        "execution": {
          "iopub.status.busy": "2023-04-15T14:24:02.593346Z",
          "iopub.execute_input": "2023-04-15T14:24:02.595313Z",
          "iopub.status.idle": "2023-04-15T14:24:03.054838Z",
          "shell.execute_reply.started": "2023-04-15T14:24:02.595259Z",
          "shell.execute_reply": "2023-04-15T14:24:03.053571Z"
        },
        "trusted": true,
        "outputId": "6a608500-a08d-4569-effc-8b43b493f127",
        "colab": {
          "base_uri": "https://localhost:8080/",
          "height": 430
        }
      },
      "execution_count": null,
      "outputs": [
        {
          "output_type": "display_data",
          "data": {
            "text/plain": [
              "<Figure size 640x480 with 2 Axes>"
            ],
            "image/png": "[encoded data removed]"
          },
          "metadata": {}
        }
      ]
    },
    {
      "cell_type": "code",
      "source": [
        "# Plot the loss and accuracy curves for training and validation \n",
        "fig, ax = plt.subplots(1,1, figsize=(20, 5))\n",
        "ax.plot(history.history['loss'], color='b', label=\"Training loss\")\n",
        "ax.plot(history.history['val_loss'], color='r', label=\"validation loss\",axes = ax)\n",
        "plt.xlabel(\"Number of Epochs\")\n",
        "plt.ylabel(\"Loss\")\n",
        "legend = ax.legend(loc='best', shadow=True)"
      ],
      "metadata": {
        "id": "vew6GSgo5CdH",
        "execution": {
          "iopub.status.busy": "2023-04-15T14:24:03.057729Z",
          "iopub.execute_input": "2023-04-15T14:24:03.058436Z",
          "iopub.status.idle": "2023-04-15T14:24:03.337719Z",
          "shell.execute_reply.started": "2023-04-15T14:24:03.058387Z",
          "shell.execute_reply": "2023-04-15T14:24:03.336609Z"
        },
        "trusted": true,
        "outputId": "03baaee9-59cc-4279-bb2c-10019d1dfc9c",
        "colab": {
          "base_uri": "https://localhost:8080/",
          "height": 257
        }
      },
      "execution_count": null,
      "outputs": [
        {
          "output_type": "display_data",
          "data": {
            "text/plain": [
              "<Figure size 2000x500 with 1 Axes>"
            ],
            "image/png": "[encoded data removed]"
          },
          "metadata": {}
        }
      ]
    },
    {
      "cell_type": "code",
      "source": [
        "fig, ax = plt.subplots(1,1, figsize=(20, 5))\n",
        "ax.plot(history.history['accuracy'], color='b', label=\"Training accuracy\")\n",
        "ax.plot(history.history['val_accuracy'], color='r',label=\"Validation accuracy\")\n",
        "plt.xlabel(\"Number of Epochs\")\n",
        "plt.ylabel(\"categorical_accuracy\")\n",
        "legend = ax.legend(loc = 'best', shadow = True)"
      ],
      "metadata": {
        "id": "vH1QWHM75WKp",
        "execution": {
          "iopub.status.busy": "2023-04-15T14:24:03.339226Z",
          "iopub.execute_input": "2023-04-15T14:24:03.339812Z",
          "iopub.status.idle": "2023-04-15T14:24:03.630573Z",
          "shell.execute_reply.started": "2023-04-15T14:24:03.339770Z",
          "shell.execute_reply": "2023-04-15T14:24:03.629588Z"
        },
        "trusted": true,
        "outputId": "612ece30-a403-4934-8698-a0c029e2d8e2",
        "colab": {
          "base_uri": "https://localhost:8080/",
          "height": 255
        }
      },
      "execution_count": null,
      "outputs": [
        {
          "output_type": "display_data",
          "data": {
            "text/plain": [
              "<Figure size 2000x500 with 1 Axes>"
            ],
            "image/png": "[encoded data removed]"
          },
          "metadata": {}
        }
      ]
    },
    {
      "cell_type": "code",
      "source": [
        "from sklearn.metrics import confusion_matrix\n",
        "from sklearn.metrics import ConfusionMatrixDisplay\n",
        "\n",
        "fig = plt.figure(figsize=(15, 15)) # Set Figure\n",
        "\n",
        "# Calculate the confusion matrix\n",
        "y_pred = model.predict(x_te)\n",
        "y_pred = np.argmax(y_pred, axis=1)\n",
        "y_true = np.argmax(y_te, axis=1)\n",
        "cm = confusion_matrix(y_true, y_pred, labels=range(10))\n",
        "\n",
        "# Plot the confusion matrix using ConfusionMatrixDisplay\n",
        "cmd = ConfusionMatrixDisplay(cm, display_labels=range(10))\n",
        "fig, ax = plt.subplots(figsize=(15, 15))\n",
        "cmd.plot(cmap=plt.cm.Blues, ax=ax)\n",
        "plt.xlabel('Predicted Values')\n",
        "plt.ylabel('True Values')\n",
        "plt.show()"
      ],
      "metadata": {
        "id": "SWz56ZTb51y8",
        "execution": {
          "iopub.status.busy": "2023-04-15T14:30:24.038719Z",
          "iopub.execute_input": "2023-04-15T14:30:24.039100Z",
          "iopub.status.idle": "2023-04-15T14:30:34.438446Z",
          "shell.execute_reply.started": "2023-04-15T14:30:24.039063Z",
          "shell.execute_reply": "2023-04-15T14:30:34.437372Z"
        },
        "trusted": true,
        "colab": {
          "base_uri": "https://localhost:8080/",
          "height": 945
        },
        "outputId": "942c775b-6381-4807-e948-4f6e795804af"
      },
      "execution_count": null,
      "outputs": [
        {
          "output_type": "stream",
          "name": "stdout",
          "text": [
            "313/313 [==============================] - 2s 6ms/step\n"
          ]
        },
        {
          "output_type": "display_data",
          "data": {
            "text/plain": [
              "<Figure size 1500x1500 with 0 Axes>"
            ]
          },
          "metadata": {}
        },
        {
          "output_type": "display_data",
          "data": {
            "text/plain": [
              "<Figure size 1500x1500 with 2 Axes>"
            ],
            "image/png": "[encoded data removed]"
          },
          "metadata": {}
        }
      ]
    },
    {
      "cell_type": "code",
      "source": [
        "from sklearn.metrics import accuracy_score, precision_score, recall_score, f1_score\n",
        "\n",
        "# Calculate the number of true samples\n",
        "n_true = np.sum(cm)\n",
        "\n",
        "# Calculate the number of classified samples\n",
        "n_classified = np.sum(cm, axis=0)\n",
        "\n",
        "# Calculate accuracy\n",
        "accuracy = accuracy_score(y_true, y_pred)\n",
        "\n",
        "# Calculate precision\n",
        "precision = precision_score(y_true, y_pred, average='weighted')\n",
        "\n",
        "# Calculate recall\n",
        "recall = recall_score(y_true, y_pred, average='weighted')\n",
        "\n",
        "# Calculate F1 score\n",
        "f1 = f1_score(y_true, y_pred, average='weighted')\n",
        "\n",
        "print(\"Number of True Samples:\", n_true)\n",
        "print(\"Number of Classified Samples:\", n_classified)\n",
        "print(\"Accuracy:\", accuracy)\n",
        "print(\"Precision:\", precision)\n",
        "print(\"Recall:\", recall)\n",
        "print(\"F1 Score:\", f1)\n"
      ],
      "metadata": {
        "id": "AcoGeirnnGO5",
        "outputId": "6c2bb633-48b5-4340-844f-98ed5900f233",
        "colab": {
          "base_uri": "https://localhost:8080/"
        }
      },
      "execution_count": null,
      "outputs": [
        {
          "output_type": "stream",
          "name": "stdout",
          "text": [
            "Number of True Samples: 9989\n",
            "Number of Classified Samples: [1010  991 1006 1000 1000  997  992 1001 1004  988]\n",
            "Accuracy: 0.9951947141856041\n",
            "Precision: 0.9952136281008805\n",
            "Recall: 0.9951947141856041\n",
            "F1 Score: 0.9951935507342944\n"
          ]
        }
      ]
    },
    {
      "cell_type": "code",
      "source": [
        "from sklearn.metrics import accuracy_score, precision_score, recall_score, f1_score\n",
        "\n",
        "# Calculate the number of true samples for each class\n",
        "n_true = np.sum(cm, axis=1)\n",
        "\n",
        "# Calculate the number of classified samples for each class\n",
        "n_classified = np.sum(cm, axis=0)\n",
        "\n",
        "# Calculate metrics for each class\n",
        "class_accuracy = []\n",
        "class_precision = []\n",
        "class_recall = []\n",
        "class_f1 = []\n",
        "\n",
        "for i in range(10):\n",
        "    # Calculate accuracy for class i\n",
        "    class_acc = accuracy_score(y_true[y_true == i], y_pred[y_true == i])\n",
        "    class_accuracy.append(class_acc)\n",
        "    \n",
        "    # Calculate precision for class i\n",
        "    class_prec = precision_score(y_true, y_pred, average='macro', labels=[i])\n",
        "    class_precision.append(class_prec)\n",
        "    \n",
        "    # Calculate recall for class i\n",
        "    class_rec = recall_score(y_true, y_pred, average='macro', labels=[i])\n",
        "    class_recall.append(class_rec)\n",
        "    \n",
        "    # Calculate F1 score for class i\n",
        "    class_f1_score = f1_score(y_true, y_pred, average='macro', labels=[i])\n",
        "    class_f1.append(class_f1_score)\n",
        "\n",
        "# Print metrics for each class\n",
        "for i in range(10):\n",
        "    print(f\"Metrics for Class {i}:\")\n",
        "    print(\"Number of True Samples:\", n_true[i])\n",
        "    print(\"Number of Classified Samples:\", n_classified[i])\n",
        "    print(\"Accuracy:\", class_accuracy[i])\n",
        "    print(\"Precision:\", class_precision[i])\n",
        "    print(\"Recall:\", class_recall[i])\n",
        "    print(\"F1 Score:\", class_f1[i])\n",
        "    print()\n"
      ],
      "metadata": {
        "colab": {
          "base_uri": "https://localhost:8080/"
        },
        "id": "kzbWMsB3e_Xk",
        "outputId": "38103bee-742f-4ae4-b520-5f1fae331bb0"
      },
      "execution_count": null,
      "outputs": [
        {
          "output_type": "stream",
          "name": "stdout",
          "text": [
            "Metrics for Class 0:\n",
            "Number of True Samples: 999\n",
            "Number of Classified Samples: 1010\n",
            "Accuracy: 1.0\n",
            "Precision: 0.9891089108910891\n",
            "Recall: 1.0\n",
            "F1 Score: 0.9945246391239423\n",
            "\n",
            "Metrics for Class 1:\n",
            "Number of True Samples: 999\n",
            "Number of Classified Samples: 991\n",
            "Accuracy: 0.988988988988989\n",
            "Precision: 0.9969727547931383\n",
            "Recall: 0.988988988988989\n",
            "F1 Score: 0.992964824120603\n",
            "\n",
            "Metrics for Class 2:\n",
            "Number of True Samples: 999\n",
            "Number of Classified Samples: 1006\n",
            "Accuracy: 0.997997997997998\n",
            "Precision: 0.9910536779324056\n",
            "Recall: 0.997997997997998\n",
            "F1 Score: 0.9945137157107233\n",
            "\n",
            "Metrics for Class 3:\n",
            "Number of True Samples: 999\n",
            "Number of Classified Samples: 1000\n",
            "Accuracy: 0.994994994994995\n",
            "Precision: 0.994\n",
            "Recall: 0.994994994994995\n",
            "F1 Score: 0.9944972486243121\n",
            "\n",
            "Metrics for Class 4:\n",
            "Number of True Samples: 999\n",
            "Number of Classified Samples: 1000\n",
            "Accuracy: 0.994994994994995\n",
            "Precision: 0.994\n",
            "Recall: 0.994994994994995\n",
            "F1 Score: 0.9944972486243121\n",
            "\n",
            "Metrics for Class 5:\n",
            "Number of True Samples: 999\n",
            "Number of Classified Samples: 997\n",
            "Accuracy: 0.994994994994995\n",
            "Precision: 0.9969909729187563\n",
            "Recall: 0.994994994994995\n",
            "F1 Score: 0.9959919839679359\n",
            "\n",
            "Metrics for Class 6:\n",
            "Number of True Samples: 998\n",
            "Number of Classified Samples: 992\n",
            "Accuracy: 0.9939879759519038\n",
            "Precision: 1.0\n",
            "Recall: 0.9939879759519038\n",
            "F1 Score: 0.9969849246231155\n",
            "\n",
            "Metrics for Class 7:\n",
            "Number of True Samples: 999\n",
            "Number of Classified Samples: 1001\n",
            "Accuracy: 0.998998998998999\n",
            "Precision: 0.997002997002997\n",
            "Recall: 0.998998998998999\n",
            "F1 Score: 0.998\n",
            "\n",
            "Metrics for Class 8:\n",
            "Number of True Samples: 999\n",
            "Number of Classified Samples: 1004\n",
            "Accuracy: 0.998998998998999\n",
            "Precision: 0.9940239043824701\n",
            "Recall: 0.998998998998999\n",
            "F1 Score: 0.9965052421367948\n",
            "\n",
            "Metrics for Class 9:\n",
            "Number of True Samples: 999\n",
            "Number of Classified Samples: 988\n",
            "Accuracy: 0.987987987987988\n",
            "Precision: 0.9989878542510121\n",
            "Recall: 0.987987987987988\n",
            "F1 Score: 0.9934574735782588\n",
            "\n"
          ]
        }
      ]
    },
    {
      "cell_type": "code",
      "source": [
        "x_test.shape,  y_test.shape"
      ],
      "metadata": {
        "id": "7nwI3C5bQ1ZX",
        "outputId": "af17df17-052c-4f2e-9130-ab989e0b17bb",
        "colab": {
          "base_uri": "https://localhost:8080/"
        }
      },
      "execution_count": null,
      "outputs": [
        {
          "output_type": "execute_result",
          "data": {
            "text/plain": [
              "((1, 28, 28, 1), (1, 10))"
            ]
          },
          "metadata": {},
          "execution_count": 40
        }
      ]
    },
    {
      "cell_type": "code",
      "source": [
        "import tensorflow as tf"
      ],
      "metadata": {
        "id": "zl5UpcpWB58w",
        "execution": {
          "iopub.status.busy": "2023-04-15T14:13:56.757009Z",
          "iopub.execute_input": "2023-04-15T14:13:56.757374Z",
          "iopub.status.idle": "2023-04-15T14:13:56.762761Z",
          "shell.execute_reply.started": "2023-04-15T14:13:56.757339Z",
          "shell.execute_reply": "2023-04-15T14:13:56.761345Z"
        },
        "trusted": true
      },
      "execution_count": null,
      "outputs": []
    },
    {
      "cell_type": "code",
      "source": [
        "y_pred = model.predict(x_val)\n",
        "X_test__ = tf.reshape(x_val, [x_val.shape[0], 28, 28])\n",
        "\n",
        "fig, axis = plt.subplots(4, 4, figsize=(12, 14))\n",
        "for i, ax in enumerate(axis.flat):\n",
        "    ax.imshow(X_test__[i], cmap='binary')\n",
        "    ax.set(title = f\"Real Number is {y_val[i].argmax()}\\nPredict Number is {y_pred[i].argmax()}\");"
      ],
      "metadata": {
        "id": "NYm8YdxhBz3O",
        "execution": {
          "iopub.status.busy": "2023-04-15T14:13:59.741259Z",
          "iopub.execute_input": "2023-04-15T14:13:59.741665Z",
          "iopub.status.idle": "2023-04-15T14:14:05.937596Z",
          "shell.execute_reply.started": "2023-04-15T14:13:59.741627Z",
          "shell.execute_reply": "2023-04-15T14:14:05.936358Z"
        },
        "trusted": true,
        "outputId": "090d4580-4470-476f-af9b-6b117efc52c4",
        "colab": {
          "base_uri": "https://localhost:8080/",
          "height": 1000
        }
      },
      "execution_count": null,
      "outputs": [
        {
          "output_type": "stream",
          "name": "stdout",
          "text": [
            "186/186 [==============================] - 1s 6ms/step\n"
          ]
        },
        {
          "output_type": "display_data",
          "data": {
            "text/plain": [
              "<Figure size 1200x1400 with 16 Axes>"
            ],
            "image/png": "[encoded data removed]"
          },
          "metadata": {}
        }
      ]
    }
  ]
}